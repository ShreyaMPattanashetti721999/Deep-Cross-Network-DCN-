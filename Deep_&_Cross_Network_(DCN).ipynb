{
  "cells": [
    {
      "cell_type": "markdown",
      "metadata": {
        "id": "ikhIvrku-i-L"
      },
      "source": [
        "# Deep & Cross Network (DCN)\n",
        "\n"
      ]
    },
    {
      "cell_type": "markdown",
      "metadata": {
        "id": "Q-rOX95bAye4"
      },
      "source": [
        "**What are feature crosses and why are they important?** Imagine that we are building a recommender system to sell a blender to customers. Then, a customer's past purchase history such as `purchased_bananas` and `purchased_cooking_books`, or geographic features, are single features. If one has purchased both bananas **and** cooking books, then this customer will more likely click on the recommended blender. The combination of `purchased_bananas` and `purchased_cooking_books` is referred to as a **feature cross**, which provides additional interaction information beyond the individual features.\n",
        "<div>\n",
        "<center>\n",
        "<img src=\"http://drive.google.com/uc?export=view&id=1e8pYZHM1ZSwqBLYVkKDoGg0_2t2UPc2y\" width=\"600\"/>\n",
        "</center>\n",
        "</div>\n",
        "\n",
        "\n",
        "\n",
        "\n",
        "**What are the challenges in learning feature crosses?** In Web-scale applications, data are mostly categorical, leading to large and sparse feature space. Identifying effective feature crosses in this setting often requires\n",
        "manual feature engineering or exhaustive search. Traditional feed-forward multilayer perceptron (MLP) models are universal function approximators; however, they cannot efficiently approximate even 2nd or 3rd-order feature crosses\n",
        "\n",
        "**What is Deep & Cross Network (DCN)?** DCN was designed to learn explicit and bounded-degree cross features more effectively. It starts with an input layer (typically an embedding layer), followed by a *cross network* containing multiple cross layers that models explicit feature interactions, and then combines\n",
        "with a *deep network* that models implicit feature interactions.\n",
        "\n",
        "\n",
        "*   Cross Network. This is the core of DCN. It explicitly applies feature crossing at each layer, and the highest\n",
        "polynomial degree increases with layer depth. The following figure shows the $(i+1)$-th cross layer.\n",
        "<div class=\"fig figcenter fighighlight\">\n",
        "<center>\n",
        "  <img src=\"http://drive.google.com/uc?export=view&id=1QvIDptMxixFNp6P4bBqMN4AYAhAIAYQZ\" width=\"50%\" style=\"display:block\">\n",
        "  </center>\n",
        "</div>\n",
        "*   Deep Network. It is a traditional feedforward multilayer perceptron (MLP).\n",
        "\n",
        "The deep network and cross network are then combined to form DCN. Commonly, we could stack a deep network on top of the cross network (stacked structure); we could also place them in parallel (parallel structure).\n",
        "\n",
        "\n",
        "<div class=\"fig figcenter fighighlight\">\n",
        "<center>\n",
        "  <img src=\"http://drive.google.com/uc?export=view&id=1WtDUCV6b-eetUnWVCAmcPh8mJFut5EUd\" hspace=\"40\" width=\"30%\" style=\"margin: 0px 100px 0px 0px;\">\n",
        "  <img src=\"http://drive.google.com/uc?export=view&id=1xo_twKb847hasfss7JxF0UtFX_rEb4nt\" width=\"20%\">\n",
        "  </center>\n",
        "</div>"
      ]
    },
    {
      "cell_type": "markdown",
      "metadata": {
        "id": "6OlIGoADAhZg"
      },
      "source": [
        "In the following, we will first show the advantage of DCN with a toy example, and then some common ways to utilize DCN using the MovieLen-1M dataset."
      ]
    },
    {
      "cell_type": "markdown",
      "metadata": {
        "id": "Az-y_3qxH3gA"
      },
      "source": [
        "Let's first install and import the necessary packages for this colab.\n"
      ]
    },
    {
      "cell_type": "code",
      "execution_count": null,
      "metadata": {
        "id": "PjfZWVEWAmxS",
        "colab": {
          "base_uri": "https://localhost:8080/"
        },
        "outputId": "c082ca07-6c8c-42f4-8f6d-6e3c84b16c89"
      },
      "outputs": [
        {
          "output_type": "stream",
          "name": "stdout",
          "text": [
            "\u001b[?25l     \u001b[90m━━━━━━━━━━━━━━━━━━━━━━━━━━━━━━━━━━━━━━━━\u001b[0m \u001b[32m0.0/96.2 kB\u001b[0m \u001b[31m?\u001b[0m eta \u001b[36m-:--:--\u001b[0m\r\u001b[2K     \u001b[91m━━━━━━━━━━━━━━━━━━━━━━━━━━━━━━━━━━━━━━\u001b[0m\u001b[90m╺\u001b[0m\u001b[90m━\u001b[0m \u001b[32m92.2/96.2 kB\u001b[0m \u001b[31m3.1 MB/s\u001b[0m eta \u001b[36m0:00:01\u001b[0m\r\u001b[2K     \u001b[90m━━━━━━━━━━━━━━━━━━━━━━━━━━━━━━━━━━━━━━━━\u001b[0m \u001b[32m96.2/96.2 kB\u001b[0m \u001b[31m2.4 MB/s\u001b[0m eta \u001b[36m0:00:00\u001b[0m\n",
            "\u001b[?25h"
          ]
        }
      ],
      "source": [
        "!pip install -q tensorflow-recommenders\n",
        "!pip install -q --upgrade tensorflow-datasets"
      ]
    },
    {
      "cell_type": "code",
      "execution_count": null,
      "metadata": {
        "id": "DqsyLA0UHeCl"
      },
      "outputs": [],
      "source": [
        "import pprint\n",
        "\n",
        "%matplotlib inline\n",
        "import matplotlib.pyplot as plt\n",
        "from mpl_toolkits.axes_grid1 import make_axes_locatable\n",
        "\n",
        "import numpy as np\n",
        "import tensorflow as tf\n",
        "import tensorflow_datasets as tfds\n",
        "\n",
        "import tensorflow_recommenders as tfrs"
      ]
    },
    {
      "cell_type": "markdown",
      "metadata": {
        "id": "tHCgOeoHBGbb"
      },
      "source": [
        "## Toy Example\n",
        "To illustrate the benefits of DCN, let's work through a simple example. Suppose we have a dataset where we're trying to model the likelihood of a customer clicking on a blender Ad, with its features and label described as follows.\n",
        "\n",
        "| Features / Label        | Description           | Value Type / Range  |\n",
        "| ------------- |-------------| -----|\n",
        "| $x_1$ = country | the country this customer lives in | Int in [0, 199] |\n",
        "| $x_2$ = bananas | # bananas the customer has purchased |Int in   [0, 23] |\n",
        "| $x_3$ = cookbooks | # cooking books the customer has purchased     |Int in  [0, 5] |\n",
        "| $y$ | the likelihood of clicking on a blender Ad     |   -- |\n",
        "\n",
        "Then, we let the data follow the following underlying distribution:\n",
        "$$y = f(x_1, x_2, x_3) = 0.1x_1 + 0.4x_2+0.7x_3 + 0.1x_1x_2+3.1x_2x_3+0.1x_3^2$$\n",
        "\n",
        "where the likelihood $y$ depends linearly both on features $x_i$'s, but also on multiplicative interactions between the $x_i$'s. In our case, we would say that the likelihood of purchasing a blender ($y$) depends not just on buying bananas ($x_2$) or cookbooks ($x_3$), but also on buying bananas and cookbooks *together* ($x_2x_3$)."
      ]
    },
    {
      "cell_type": "markdown",
      "metadata": {
        "id": "HO6d-0zoHrz8"
      },
      "source": [
        "We can generate the data for this as follows:\n"
      ]
    },
    {
      "cell_type": "markdown",
      "metadata": {
        "id": "-fi2ya4P_hab"
      },
      "source": [
        "### Synthetic data generation\n",
        "\n",
        "We first define $f(x_1, x_2, x_3)$ as described above."
      ]
    },
    {
      "cell_type": "code",
      "execution_count": null,
      "metadata": {
        "id": "9rT3f6C3GX0u"
      },
      "outputs": [],
      "source": [
        "def get_mixer_data(data_size=100_000, random_seed=42):\n",
        "  # We need to fix the random seed\n",
        "  # to make colab runs repeatable.\n",
        "  rng = np.random.RandomState(random_seed)\n",
        "  country = rng.randint(200, size=[data_size, 1]) / 200.\n",
        "  bananas = rng.randint(24, size=[data_size, 1]) / 24.\n",
        "  cookbooks = rng.randint(6, size=[data_size, 1]) / 6.\n",
        "\n",
        "  x = np.concatenate([country, bananas, cookbooks], axis=1)\n",
        "\n",
        "  # # Create 1st-order terms.\n",
        "  y = 0.1 * country + 0.4 * bananas + 0.7 * cookbooks\n",
        "\n",
        "  # Create 2nd-order cross terms.\n",
        "  y += 0.1 * country * bananas + 3.1 * bananas * cookbooks + (\n",
        "        0.1 * cookbooks * cookbooks)\n",
        "\n",
        "  return x, y"
      ]
    },
    {
      "cell_type": "markdown",
      "metadata": {
        "id": "JXtUSs9E3uRG"
      },
      "source": [
        "Let's generate the data that follows the distribution, and split the data into 90% for training and 10% for testing."
      ]
    },
    {
      "cell_type": "code",
      "execution_count": null,
      "metadata": {
        "id": "vrQWVYajgmNV"
      },
      "outputs": [],
      "source": [
        "x, y = get_mixer_data()\n",
        "num_train = 90000\n",
        "train_x = x[:num_train]\n",
        "train_y = y[:num_train]\n",
        "eval_x = x[num_train:]\n",
        "eval_y = y[num_train:]"
      ]
    },
    {
      "cell_type": "markdown",
      "metadata": {
        "id": "MszQC-KJLhVK"
      },
      "source": [
        "### Model construction\n",
        "\n",
        "We're going to try out both cross network and deep network to illustrate the advantage a cross network can bring to recommenders. As the data we just created only contains 2nd-order feature interactions, it would be sufficient to illustrate with a single-layered cross network. If we wanted to model higher-order feature interactions, we could stack multiple cross layers and use a multi-layered cross network. The two models we will be building are:\n",
        "1.   Cross Network with only one cross layer;\n",
        "2.   Deep Network with wider and deeper ReLU layers.\n",
        "\n",
        "We first build a unified model class whose loss is the mean squared error."
      ]
    },
    {
      "cell_type": "code",
      "execution_count": null,
      "metadata": {
        "id": "bwgAH2FTR4Fe"
      },
      "outputs": [],
      "source": [
        "class Model(tfrs.Model):\n",
        "\n",
        "  def __init__(self, model):\n",
        "    super().__init__()\n",
        "    self._model = model\n",
        "    self._logit_layer = tf.keras.layers.Dense(1)\n",
        "\n",
        "    self.task = tfrs.tasks.Ranking(\n",
        "      loss=tf.keras.losses.MeanSquaredError(),\n",
        "      metrics=[\n",
        "        tf.keras.metrics.RootMeanSquaredError(\"RMSE\")\n",
        "      ]\n",
        "    )\n",
        "\n",
        "  def call(self, x):\n",
        "    x = self._model(x)\n",
        "    return self._logit_layer(x)\n",
        "\n",
        "  def compute_loss(self, features, training=False):\n",
        "    x, labels = features\n",
        "    scores = self(x)\n",
        "\n",
        "    return self.task(\n",
        "        labels=labels,\n",
        "        predictions=scores,\n",
        "    )"
      ]
    },
    {
      "cell_type": "markdown",
      "metadata": {
        "id": "QAKBq2QxOdM0"
      },
      "source": [
        "Then, we specify the cross network (with 1 cross layer of size 3) and the ReLU-based DNN (with layer sizes [512, 256, 128]):"
      ]
    },
    {
      "cell_type": "code",
      "execution_count": null,
      "metadata": {
        "id": "EwBwSHz_N3pW"
      },
      "outputs": [],
      "source": [
        "crossnet = Model(tfrs.layers.dcn.Cross())\n",
        "deepnet = Model(\n",
        "    tf.keras.Sequential([\n",
        "      tf.keras.layers.Dense(512, activation=\"relu\"),\n",
        "      tf.keras.layers.Dense(256, activation=\"relu\"),\n",
        "      tf.keras.layers.Dense(128, activation=\"relu\")\n",
        "    ])\n",
        ")"
      ]
    },
    {
      "cell_type": "markdown",
      "metadata": {
        "id": "2EtaI5lh4X0B"
      },
      "source": [
        "### Model training\n",
        "Now that we have the data and models ready, we are going to train the models. We first shuffle and batch the data to prepare for model training.\n"
      ]
    },
    {
      "cell_type": "code",
      "execution_count": null,
      "metadata": {
        "id": "X6gD-NTF4eoj"
      },
      "outputs": [],
      "source": [
        "train_data = tf.data.Dataset.from_tensor_slices((train_x, train_y)).batch(1000)\n",
        "eval_data = tf.data.Dataset.from_tensor_slices((eval_x, eval_y)).batch(1000)"
      ]
    },
    {
      "cell_type": "markdown",
      "metadata": {
        "id": "JYm5bmmgPVZu"
      },
      "source": [
        "Then, we define the number of epochs as well as the learning rate."
      ]
    },
    {
      "cell_type": "code",
      "execution_count": null,
      "metadata": {
        "id": "nFhrC7fV6szW"
      },
      "outputs": [],
      "source": [
        "epochs = 100\n",
        "learning_rate = 0.4"
      ]
    },
    {
      "cell_type": "markdown",
      "metadata": {
        "id": "zbRiVPJtPz-1"
      },
      "source": [
        "Alright, everything is ready now and let's compile and train the models. You could set `verbose=False` if you don't want to see how the model progresses."
      ]
    },
    {
      "cell_type": "code",
      "execution_count": null,
      "metadata": {
        "id": "F8ZXXbmKuB8p",
        "colab": {
          "base_uri": "https://localhost:8080/"
        },
        "outputId": "348db77d-d57b-475f-f301-8536b5f21e93"
      },
      "outputs": [
        {
          "output_type": "stream",
          "name": "stdout",
          "text": [
            "Epoch 1/100\n",
            "90/90 [==============================] - 8s 6ms/step - RMSE: 0.2428 - loss: 0.0584 - regularization_loss: 0.0000e+00 - total_loss: 0.0584\n",
            "Epoch 2/100\n",
            "90/90 [==============================] - 1s 7ms/step - RMSE: 0.0673 - loss: 0.0045 - regularization_loss: 0.0000e+00 - total_loss: 0.0045\n",
            "Epoch 3/100\n",
            "90/90 [==============================] - 1s 6ms/step - RMSE: 0.0445 - loss: 0.0020 - regularization_loss: 0.0000e+00 - total_loss: 0.0020\n",
            "Epoch 4/100\n",
            "90/90 [==============================] - 1s 6ms/step - RMSE: 0.0352 - loss: 0.0012 - regularization_loss: 0.0000e+00 - total_loss: 0.0012\n",
            "Epoch 5/100\n",
            "90/90 [==============================] - 0s 5ms/step - RMSE: 0.0302 - loss: 9.1172e-04 - regularization_loss: 0.0000e+00 - total_loss: 9.1172e-04\n",
            "Epoch 6/100\n",
            "90/90 [==============================] - 1s 7ms/step - RMSE: 0.0266 - loss: 7.0520e-04 - regularization_loss: 0.0000e+00 - total_loss: 7.0520e-04\n",
            "Epoch 7/100\n",
            "90/90 [==============================] - 1s 8ms/step - RMSE: 0.0236 - loss: 5.5537e-04 - regularization_loss: 0.0000e+00 - total_loss: 5.5537e-04\n",
            "Epoch 8/100\n",
            "90/90 [==============================] - 1s 8ms/step - RMSE: 0.0210 - loss: 4.4155e-04 - regularization_loss: 0.0000e+00 - total_loss: 4.4155e-04\n",
            "Epoch 9/100\n",
            "90/90 [==============================] - 1s 7ms/step - RMSE: 0.0188 - loss: 3.5386e-04 - regularization_loss: 0.0000e+00 - total_loss: 3.5386e-04\n",
            "Epoch 10/100\n",
            "90/90 [==============================] - 1s 7ms/step - RMSE: 0.0169 - loss: 2.8613e-04 - regularization_loss: 0.0000e+00 - total_loss: 2.8613e-04\n",
            "Epoch 11/100\n",
            "90/90 [==============================] - 1s 7ms/step - RMSE: 0.0153 - loss: 2.3397e-04 - regularization_loss: 0.0000e+00 - total_loss: 2.3397e-04\n",
            "Epoch 12/100\n",
            "90/90 [==============================] - 1s 8ms/step - RMSE: 0.0139 - loss: 1.9391e-04 - regularization_loss: 0.0000e+00 - total_loss: 1.9391e-04\n",
            "Epoch 13/100\n",
            "90/90 [==============================] - 1s 7ms/step - RMSE: 0.0128 - loss: 1.6320e-04 - regularization_loss: 0.0000e+00 - total_loss: 1.6320e-04\n",
            "Epoch 14/100\n",
            "90/90 [==============================] - 1s 10ms/step - RMSE: 0.0118 - loss: 1.3962e-04 - regularization_loss: 0.0000e+00 - total_loss: 1.3962e-04\n",
            "Epoch 15/100\n",
            "90/90 [==============================] - 1s 11ms/step - RMSE: 0.0110 - loss: 1.2143e-04 - regularization_loss: 0.0000e+00 - total_loss: 1.2143e-04\n",
            "Epoch 16/100\n",
            "90/90 [==============================] - 1s 12ms/step - RMSE: 0.0104 - loss: 1.0730e-04 - regularization_loss: 0.0000e+00 - total_loss: 1.0730e-04\n",
            "Epoch 17/100\n",
            "90/90 [==============================] - 1s 11ms/step - RMSE: 0.0098 - loss: 9.6216e-05 - regularization_loss: 0.0000e+00 - total_loss: 9.6216e-05\n",
            "Epoch 18/100\n",
            "90/90 [==============================] - 1s 7ms/step - RMSE: 0.0094 - loss: 8.7431e-05 - regularization_loss: 0.0000e+00 - total_loss: 8.7431e-05\n",
            "Epoch 19/100\n",
            "90/90 [==============================] - 1s 8ms/step - RMSE: 0.0090 - loss: 8.0389e-05 - regularization_loss: 0.0000e+00 - total_loss: 8.0389e-05\n",
            "Epoch 20/100\n",
            "90/90 [==============================] - 1s 8ms/step - RMSE: 0.0086 - loss: 7.4682e-05 - regularization_loss: 0.0000e+00 - total_loss: 7.4682e-05\n",
            "Epoch 21/100\n",
            "90/90 [==============================] - 1s 6ms/step - RMSE: 0.0084 - loss: 7.0003e-05 - regularization_loss: 0.0000e+00 - total_loss: 7.0003e-05\n",
            "Epoch 22/100\n",
            "90/90 [==============================] - 1s 7ms/step - RMSE: 0.0081 - loss: 6.6127e-05 - regularization_loss: 0.0000e+00 - total_loss: 6.6127e-05\n",
            "Epoch 23/100\n",
            "90/90 [==============================] - 1s 8ms/step - RMSE: 0.0079 - loss: 6.2882e-05 - regularization_loss: 0.0000e+00 - total_loss: 6.2882e-05\n",
            "Epoch 24/100\n",
            "90/90 [==============================] - 1s 6ms/step - RMSE: 0.0078 - loss: 6.0138e-05 - regularization_loss: 0.0000e+00 - total_loss: 6.0138e-05\n",
            "Epoch 25/100\n",
            "90/90 [==============================] - 1s 7ms/step - RMSE: 0.0076 - loss: 5.7796e-05 - regularization_loss: 0.0000e+00 - total_loss: 5.7796e-05\n",
            "Epoch 26/100\n",
            "90/90 [==============================] - 1s 7ms/step - RMSE: 0.0075 - loss: 5.5777e-05 - regularization_loss: 0.0000e+00 - total_loss: 5.5777e-05\n",
            "Epoch 27/100\n",
            "90/90 [==============================] - 1s 6ms/step - RMSE: 0.0073 - loss: 5.4021e-05 - regularization_loss: 0.0000e+00 - total_loss: 5.4021e-05\n",
            "Epoch 28/100\n",
            "90/90 [==============================] - 0s 4ms/step - RMSE: 0.0072 - loss: 5.2480e-05 - regularization_loss: 0.0000e+00 - total_loss: 5.2480e-05\n",
            "Epoch 29/100\n",
            "90/90 [==============================] - 0s 4ms/step - RMSE: 0.0071 - loss: 5.1115e-05 - regularization_loss: 0.0000e+00 - total_loss: 5.1115e-05\n",
            "Epoch 30/100\n",
            "90/90 [==============================] - 0s 4ms/step - RMSE: 0.0071 - loss: 4.9897e-05 - regularization_loss: 0.0000e+00 - total_loss: 4.9897e-05\n",
            "Epoch 31/100\n",
            "90/90 [==============================] - 1s 6ms/step - RMSE: 0.0070 - loss: 4.8800e-05 - regularization_loss: 0.0000e+00 - total_loss: 4.8800e-05\n",
            "Epoch 32/100\n",
            "90/90 [==============================] - 1s 7ms/step - RMSE: 0.0069 - loss: 4.7805e-05 - regularization_loss: 0.0000e+00 - total_loss: 4.7805e-05\n",
            "Epoch 33/100\n",
            "90/90 [==============================] - 1s 7ms/step - RMSE: 0.0068 - loss: 4.6896e-05 - regularization_loss: 0.0000e+00 - total_loss: 4.6896e-05\n",
            "Epoch 34/100\n",
            "90/90 [==============================] - 1s 6ms/step - RMSE: 0.0068 - loss: 4.6060e-05 - regularization_loss: 0.0000e+00 - total_loss: 4.6060e-05\n",
            "Epoch 35/100\n",
            "90/90 [==============================] - 1s 6ms/step - RMSE: 0.0067 - loss: 4.5285e-05 - regularization_loss: 0.0000e+00 - total_loss: 4.5285e-05\n",
            "Epoch 36/100\n",
            "90/90 [==============================] - 0s 5ms/step - RMSE: 0.0067 - loss: 4.4563e-05 - regularization_loss: 0.0000e+00 - total_loss: 4.4563e-05\n",
            "Epoch 37/100\n",
            "90/90 [==============================] - 0s 4ms/step - RMSE: 0.0066 - loss: 4.3887e-05 - regularization_loss: 0.0000e+00 - total_loss: 4.3887e-05\n",
            "Epoch 38/100\n",
            "90/90 [==============================] - 0s 4ms/step - RMSE: 0.0066 - loss: 4.3250e-05 - regularization_loss: 0.0000e+00 - total_loss: 4.3250e-05\n",
            "Epoch 39/100\n",
            "90/90 [==============================] - 0s 3ms/step - RMSE: 0.0065 - loss: 4.2648e-05 - regularization_loss: 0.0000e+00 - total_loss: 4.2648e-05\n",
            "Epoch 40/100\n",
            "90/90 [==============================] - 0s 4ms/step - RMSE: 0.0065 - loss: 4.2076e-05 - regularization_loss: 0.0000e+00 - total_loss: 4.2076e-05\n",
            "Epoch 41/100\n",
            "90/90 [==============================] - 0s 4ms/step - RMSE: 0.0064 - loss: 4.1531e-05 - regularization_loss: 0.0000e+00 - total_loss: 4.1531e-05\n",
            "Epoch 42/100\n",
            "90/90 [==============================] - 0s 4ms/step - RMSE: 0.0064 - loss: 4.1009e-05 - regularization_loss: 0.0000e+00 - total_loss: 4.1009e-05\n",
            "Epoch 43/100\n",
            "90/90 [==============================] - 0s 4ms/step - RMSE: 0.0064 - loss: 4.0510e-05 - regularization_loss: 0.0000e+00 - total_loss: 4.0510e-05\n",
            "Epoch 44/100\n",
            "90/90 [==============================] - 0s 4ms/step - RMSE: 0.0063 - loss: 4.0029e-05 - regularization_loss: 0.0000e+00 - total_loss: 4.0029e-05\n",
            "Epoch 45/100\n",
            "90/90 [==============================] - 0s 4ms/step - RMSE: 0.0063 - loss: 3.9565e-05 - regularization_loss: 0.0000e+00 - total_loss: 3.9565e-05\n",
            "Epoch 46/100\n",
            "90/90 [==============================] - 0s 4ms/step - RMSE: 0.0063 - loss: 3.9118e-05 - regularization_loss: 0.0000e+00 - total_loss: 3.9118e-05\n",
            "Epoch 47/100\n",
            "90/90 [==============================] - 0s 4ms/step - RMSE: 0.0062 - loss: 3.8685e-05 - regularization_loss: 0.0000e+00 - total_loss: 3.8685e-05\n",
            "Epoch 48/100\n",
            "90/90 [==============================] - 0s 4ms/step - RMSE: 0.0062 - loss: 3.8266e-05 - regularization_loss: 0.0000e+00 - total_loss: 3.8266e-05\n",
            "Epoch 49/100\n",
            "90/90 [==============================] - 0s 4ms/step - RMSE: 0.0061 - loss: 3.7859e-05 - regularization_loss: 0.0000e+00 - total_loss: 3.7859e-05\n",
            "Epoch 50/100\n",
            "90/90 [==============================] - 0s 4ms/step - RMSE: 0.0061 - loss: 3.7463e-05 - regularization_loss: 0.0000e+00 - total_loss: 3.7463e-05\n",
            "Epoch 51/100\n",
            "90/90 [==============================] - 0s 4ms/step - RMSE: 0.0061 - loss: 3.7078e-05 - regularization_loss: 0.0000e+00 - total_loss: 3.7078e-05\n",
            "Epoch 52/100\n",
            "90/90 [==============================] - 0s 4ms/step - RMSE: 0.0061 - loss: 3.6704e-05 - regularization_loss: 0.0000e+00 - total_loss: 3.6704e-05\n",
            "Epoch 53/100\n",
            "90/90 [==============================] - 0s 4ms/step - RMSE: 0.0060 - loss: 3.6339e-05 - regularization_loss: 0.0000e+00 - total_loss: 3.6339e-05\n",
            "Epoch 54/100\n",
            "90/90 [==============================] - 0s 3ms/step - RMSE: 0.0060 - loss: 3.5983e-05 - regularization_loss: 0.0000e+00 - total_loss: 3.5983e-05\n",
            "Epoch 55/100\n",
            "90/90 [==============================] - 0s 4ms/step - RMSE: 0.0060 - loss: 3.5635e-05 - regularization_loss: 0.0000e+00 - total_loss: 3.5635e-05\n",
            "Epoch 56/100\n",
            "90/90 [==============================] - 0s 4ms/step - RMSE: 0.0059 - loss: 3.5295e-05 - regularization_loss: 0.0000e+00 - total_loss: 3.5295e-05\n",
            "Epoch 57/100\n",
            "90/90 [==============================] - 0s 3ms/step - RMSE: 0.0059 - loss: 3.4963e-05 - regularization_loss: 0.0000e+00 - total_loss: 3.4963e-05\n",
            "Epoch 58/100\n",
            "90/90 [==============================] - 0s 4ms/step - RMSE: 0.0059 - loss: 3.4638e-05 - regularization_loss: 0.0000e+00 - total_loss: 3.4638e-05\n",
            "Epoch 59/100\n",
            "90/90 [==============================] - 0s 4ms/step - RMSE: 0.0059 - loss: 3.4321e-05 - regularization_loss: 0.0000e+00 - total_loss: 3.4321e-05\n",
            "Epoch 60/100\n",
            "90/90 [==============================] - 0s 4ms/step - RMSE: 0.0058 - loss: 3.4009e-05 - regularization_loss: 0.0000e+00 - total_loss: 3.4009e-05\n",
            "Epoch 61/100\n",
            "90/90 [==============================] - 0s 4ms/step - RMSE: 0.0058 - loss: 3.3704e-05 - regularization_loss: 0.0000e+00 - total_loss: 3.3704e-05\n",
            "Epoch 62/100\n",
            "90/90 [==============================] - 0s 5ms/step - RMSE: 0.0058 - loss: 3.3405e-05 - regularization_loss: 0.0000e+00 - total_loss: 3.3405e-05\n",
            "Epoch 63/100\n",
            "90/90 [==============================] - 1s 7ms/step - RMSE: 0.0058 - loss: 3.3112e-05 - regularization_loss: 0.0000e+00 - total_loss: 3.3112e-05\n",
            "Epoch 64/100\n",
            "90/90 [==============================] - 1s 7ms/step - RMSE: 0.0057 - loss: 3.2825e-05 - regularization_loss: 0.0000e+00 - total_loss: 3.2825e-05\n",
            "Epoch 65/100\n",
            "90/90 [==============================] - 1s 7ms/step - RMSE: 0.0057 - loss: 3.2543e-05 - regularization_loss: 0.0000e+00 - total_loss: 3.2543e-05\n",
            "Epoch 66/100\n",
            "90/90 [==============================] - 1s 6ms/step - RMSE: 0.0057 - loss: 3.2266e-05 - regularization_loss: 0.0000e+00 - total_loss: 3.2266e-05\n",
            "Epoch 67/100\n",
            "90/90 [==============================] - 1s 6ms/step - RMSE: 0.0057 - loss: 3.1994e-05 - regularization_loss: 0.0000e+00 - total_loss: 3.1994e-05\n",
            "Epoch 68/100\n",
            "90/90 [==============================] - 0s 5ms/step - RMSE: 0.0056 - loss: 3.1726e-05 - regularization_loss: 0.0000e+00 - total_loss: 3.1726e-05\n",
            "Epoch 69/100\n",
            "90/90 [==============================] - 0s 4ms/step - RMSE: 0.0056 - loss: 3.1464e-05 - regularization_loss: 0.0000e+00 - total_loss: 3.1464e-05\n",
            "Epoch 70/100\n",
            "90/90 [==============================] - 0s 4ms/step - RMSE: 0.0056 - loss: 3.1205e-05 - regularization_loss: 0.0000e+00 - total_loss: 3.1205e-05\n",
            "Epoch 71/100\n",
            "90/90 [==============================] - 0s 4ms/step - RMSE: 0.0056 - loss: 3.0951e-05 - regularization_loss: 0.0000e+00 - total_loss: 3.0951e-05\n",
            "Epoch 72/100\n",
            "90/90 [==============================] - 0s 4ms/step - RMSE: 0.0055 - loss: 3.0702e-05 - regularization_loss: 0.0000e+00 - total_loss: 3.0702e-05\n",
            "Epoch 73/100\n",
            "90/90 [==============================] - 0s 4ms/step - RMSE: 0.0055 - loss: 3.0456e-05 - regularization_loss: 0.0000e+00 - total_loss: 3.0456e-05\n",
            "Epoch 74/100\n",
            "90/90 [==============================] - 0s 4ms/step - RMSE: 0.0055 - loss: 3.0214e-05 - regularization_loss: 0.0000e+00 - total_loss: 3.0214e-05\n",
            "Epoch 75/100\n",
            "90/90 [==============================] - 0s 4ms/step - RMSE: 0.0055 - loss: 2.9976e-05 - regularization_loss: 0.0000e+00 - total_loss: 2.9976e-05\n",
            "Epoch 76/100\n",
            "90/90 [==============================] - 0s 4ms/step - RMSE: 0.0055 - loss: 2.9742e-05 - regularization_loss: 0.0000e+00 - total_loss: 2.9742e-05\n",
            "Epoch 77/100\n",
            "90/90 [==============================] - 0s 4ms/step - RMSE: 0.0054 - loss: 2.9511e-05 - regularization_loss: 0.0000e+00 - total_loss: 2.9511e-05\n",
            "Epoch 78/100\n",
            "90/90 [==============================] - 0s 4ms/step - RMSE: 0.0054 - loss: 2.9283e-05 - regularization_loss: 0.0000e+00 - total_loss: 2.9283e-05\n",
            "Epoch 79/100\n",
            "90/90 [==============================] - 0s 3ms/step - RMSE: 0.0054 - loss: 2.9059e-05 - regularization_loss: 0.0000e+00 - total_loss: 2.9059e-05\n",
            "Epoch 80/100\n",
            "90/90 [==============================] - 0s 4ms/step - RMSE: 0.0054 - loss: 2.8838e-05 - regularization_loss: 0.0000e+00 - total_loss: 2.8838e-05\n",
            "Epoch 81/100\n",
            "90/90 [==============================] - 0s 4ms/step - RMSE: 0.0053 - loss: 2.8620e-05 - regularization_loss: 0.0000e+00 - total_loss: 2.8620e-05\n",
            "Epoch 82/100\n",
            "90/90 [==============================] - 0s 4ms/step - RMSE: 0.0053 - loss: 2.8406e-05 - regularization_loss: 0.0000e+00 - total_loss: 2.8406e-05\n",
            "Epoch 83/100\n",
            "90/90 [==============================] - 0s 4ms/step - RMSE: 0.0053 - loss: 2.8194e-05 - regularization_loss: 0.0000e+00 - total_loss: 2.8194e-05\n",
            "Epoch 84/100\n",
            "90/90 [==============================] - 0s 4ms/step - RMSE: 0.0053 - loss: 2.7985e-05 - regularization_loss: 0.0000e+00 - total_loss: 2.7985e-05\n",
            "Epoch 85/100\n",
            "90/90 [==============================] - 0s 4ms/step - RMSE: 0.0053 - loss: 2.7779e-05 - regularization_loss: 0.0000e+00 - total_loss: 2.7779e-05\n",
            "Epoch 86/100\n",
            "90/90 [==============================] - 0s 4ms/step - RMSE: 0.0052 - loss: 2.7575e-05 - regularization_loss: 0.0000e+00 - total_loss: 2.7575e-05\n",
            "Epoch 87/100\n",
            "90/90 [==============================] - 0s 4ms/step - RMSE: 0.0052 - loss: 2.7374e-05 - regularization_loss: 0.0000e+00 - total_loss: 2.7374e-05\n",
            "Epoch 88/100\n",
            "90/90 [==============================] - 0s 4ms/step - RMSE: 0.0052 - loss: 2.7176e-05 - regularization_loss: 0.0000e+00 - total_loss: 2.7176e-05\n",
            "Epoch 89/100\n",
            "90/90 [==============================] - 0s 4ms/step - RMSE: 0.0052 - loss: 2.6980e-05 - regularization_loss: 0.0000e+00 - total_loss: 2.6980e-05\n",
            "Epoch 90/100\n",
            "90/90 [==============================] - 0s 4ms/step - RMSE: 0.0052 - loss: 2.6787e-05 - regularization_loss: 0.0000e+00 - total_loss: 2.6787e-05\n",
            "Epoch 91/100\n",
            "90/90 [==============================] - 0s 4ms/step - RMSE: 0.0052 - loss: 2.6596e-05 - regularization_loss: 0.0000e+00 - total_loss: 2.6596e-05\n",
            "Epoch 92/100\n",
            "90/90 [==============================] - 0s 4ms/step - RMSE: 0.0051 - loss: 2.6407e-05 - regularization_loss: 0.0000e+00 - total_loss: 2.6407e-05\n",
            "Epoch 93/100\n",
            "90/90 [==============================] - 0s 4ms/step - RMSE: 0.0051 - loss: 2.6220e-05 - regularization_loss: 0.0000e+00 - total_loss: 2.6220e-05\n",
            "Epoch 94/100\n",
            "90/90 [==============================] - 0s 5ms/step - RMSE: 0.0051 - loss: 2.6036e-05 - regularization_loss: 0.0000e+00 - total_loss: 2.6036e-05\n",
            "Epoch 95/100\n",
            "90/90 [==============================] - 1s 6ms/step - RMSE: 0.0051 - loss: 2.5854e-05 - regularization_loss: 0.0000e+00 - total_loss: 2.5854e-05\n",
            "Epoch 96/100\n",
            "90/90 [==============================] - 1s 7ms/step - RMSE: 0.0051 - loss: 2.5674e-05 - regularization_loss: 0.0000e+00 - total_loss: 2.5674e-05\n",
            "Epoch 97/100\n",
            "90/90 [==============================] - 1s 6ms/step - RMSE: 0.0050 - loss: 2.5496e-05 - regularization_loss: 0.0000e+00 - total_loss: 2.5496e-05\n",
            "Epoch 98/100\n",
            "90/90 [==============================] - 1s 6ms/step - RMSE: 0.0050 - loss: 2.5319e-05 - regularization_loss: 0.0000e+00 - total_loss: 2.5319e-05\n",
            "Epoch 99/100\n",
            "90/90 [==============================] - 0s 5ms/step - RMSE: 0.0050 - loss: 2.5145e-05 - regularization_loss: 0.0000e+00 - total_loss: 2.5145e-05\n",
            "Epoch 100/100\n",
            "90/90 [==============================] - 0s 4ms/step - RMSE: 0.0050 - loss: 2.4973e-05 - regularization_loss: 0.0000e+00 - total_loss: 2.4973e-05\n"
          ]
        },
        {
          "output_type": "execute_result",
          "data": {
            "text/plain": [
              "<keras.src.callbacks.History at 0x7ddcb6d28910>"
            ]
          },
          "metadata": {},
          "execution_count": 9
        }
      ],
      "source": [
        "crossnet.compile(optimizer=tf.keras.optimizers.Adagrad(learning_rate))\n",
        "crossnet.fit(train_data, epochs=epochs, verbose=True)"
      ]
    },
    {
      "cell_type": "code",
      "execution_count": null,
      "metadata": {
        "id": "Tzg3KLKW2sdA",
        "colab": {
          "base_uri": "https://localhost:8080/"
        },
        "outputId": "9ddd2090-f2b4-4594-fd9d-16526c67d865"
      },
      "outputs": [
        {
          "output_type": "stream",
          "name": "stdout",
          "text": [
            "Epoch 1/100\n",
            "90/90 [==============================] - 1s 4ms/step - RMSE: 23.4008 - loss: 541.5804 - regularization_loss: 0.0000e+00 - total_loss: 541.5804\n",
            "Epoch 2/100\n",
            "90/90 [==============================] - 0s 4ms/step - RMSE: 0.1656 - loss: 0.0273 - regularization_loss: 0.0000e+00 - total_loss: 0.0273\n",
            "Epoch 3/100\n",
            "90/90 [==============================] - 0s 4ms/step - RMSE: 0.1455 - loss: 0.0211 - regularization_loss: 0.0000e+00 - total_loss: 0.0211\n",
            "Epoch 4/100\n",
            "90/90 [==============================] - 0s 4ms/step - RMSE: 0.1391 - loss: 0.0193 - regularization_loss: 0.0000e+00 - total_loss: 0.0193\n",
            "Epoch 5/100\n",
            "90/90 [==============================] - 0s 4ms/step - RMSE: 0.1361 - loss: 0.0185 - regularization_loss: 0.0000e+00 - total_loss: 0.0185\n",
            "Epoch 6/100\n",
            "90/90 [==============================] - 0s 4ms/step - RMSE: 0.1343 - loss: 0.0180 - regularization_loss: 0.0000e+00 - total_loss: 0.0180\n",
            "Epoch 7/100\n",
            "90/90 [==============================] - 0s 4ms/step - RMSE: 0.1333 - loss: 0.0178 - regularization_loss: 0.0000e+00 - total_loss: 0.0178\n",
            "Epoch 8/100\n",
            "90/90 [==============================] - 0s 4ms/step - RMSE: 0.1328 - loss: 0.0176 - regularization_loss: 0.0000e+00 - total_loss: 0.0176\n",
            "Epoch 9/100\n",
            "90/90 [==============================] - 0s 4ms/step - RMSE: 0.1323 - loss: 0.0175 - regularization_loss: 0.0000e+00 - total_loss: 0.0175\n",
            "Epoch 10/100\n",
            "90/90 [==============================] - 0s 4ms/step - RMSE: 0.1318 - loss: 0.0174 - regularization_loss: 0.0000e+00 - total_loss: 0.0174\n",
            "Epoch 11/100\n",
            "90/90 [==============================] - 0s 4ms/step - RMSE: 0.1315 - loss: 0.0173 - regularization_loss: 0.0000e+00 - total_loss: 0.0173\n",
            "Epoch 12/100\n",
            "90/90 [==============================] - 0s 4ms/step - RMSE: 0.1312 - loss: 0.0172 - regularization_loss: 0.0000e+00 - total_loss: 0.0172\n",
            "Epoch 13/100\n",
            "90/90 [==============================] - 0s 4ms/step - RMSE: 0.1311 - loss: 0.0172 - regularization_loss: 0.0000e+00 - total_loss: 0.0172\n",
            "Epoch 14/100\n",
            "90/90 [==============================] - 0s 4ms/step - RMSE: 0.1309 - loss: 0.0171 - regularization_loss: 0.0000e+00 - total_loss: 0.0171\n",
            "Epoch 15/100\n",
            "90/90 [==============================] - 0s 4ms/step - RMSE: 0.1307 - loss: 0.0171 - regularization_loss: 0.0000e+00 - total_loss: 0.0171\n",
            "Epoch 16/100\n",
            "90/90 [==============================] - 0s 4ms/step - RMSE: 0.1306 - loss: 0.0170 - regularization_loss: 0.0000e+00 - total_loss: 0.0170\n",
            "Epoch 17/100\n",
            "90/90 [==============================] - 0s 4ms/step - RMSE: 0.1305 - loss: 0.0170 - regularization_loss: 0.0000e+00 - total_loss: 0.0170\n",
            "Epoch 18/100\n",
            "90/90 [==============================] - 0s 4ms/step - RMSE: 0.1304 - loss: 0.0170 - regularization_loss: 0.0000e+00 - total_loss: 0.0170\n",
            "Epoch 19/100\n",
            "90/90 [==============================] - 0s 4ms/step - RMSE: 0.1303 - loss: 0.0170 - regularization_loss: 0.0000e+00 - total_loss: 0.0170\n",
            "Epoch 20/100\n",
            "90/90 [==============================] - 1s 6ms/step - RMSE: 0.1302 - loss: 0.0169 - regularization_loss: 0.0000e+00 - total_loss: 0.0169\n",
            "Epoch 21/100\n",
            "90/90 [==============================] - 1s 8ms/step - RMSE: 0.1301 - loss: 0.0169 - regularization_loss: 0.0000e+00 - total_loss: 0.0169\n",
            "Epoch 22/100\n",
            "90/90 [==============================] - 1s 7ms/step - RMSE: 0.1300 - loss: 0.0169 - regularization_loss: 0.0000e+00 - total_loss: 0.0169\n",
            "Epoch 23/100\n",
            "90/90 [==============================] - 1s 6ms/step - RMSE: 0.1299 - loss: 0.0169 - regularization_loss: 0.0000e+00 - total_loss: 0.0169\n",
            "Epoch 24/100\n",
            "90/90 [==============================] - 0s 5ms/step - RMSE: 0.1299 - loss: 0.0169 - regularization_loss: 0.0000e+00 - total_loss: 0.0169\n",
            "Epoch 25/100\n",
            "90/90 [==============================] - 0s 4ms/step - RMSE: 0.1298 - loss: 0.0168 - regularization_loss: 0.0000e+00 - total_loss: 0.0168\n",
            "Epoch 26/100\n",
            "90/90 [==============================] - 0s 4ms/step - RMSE: 0.1297 - loss: 0.0168 - regularization_loss: 0.0000e+00 - total_loss: 0.0168\n",
            "Epoch 27/100\n",
            "90/90 [==============================] - 0s 4ms/step - RMSE: 0.1297 - loss: 0.0168 - regularization_loss: 0.0000e+00 - total_loss: 0.0168\n",
            "Epoch 28/100\n",
            "90/90 [==============================] - 0s 4ms/step - RMSE: 0.1296 - loss: 0.0168 - regularization_loss: 0.0000e+00 - total_loss: 0.0168\n",
            "Epoch 29/100\n",
            "90/90 [==============================] - 0s 4ms/step - RMSE: 0.1295 - loss: 0.0168 - regularization_loss: 0.0000e+00 - total_loss: 0.0168\n",
            "Epoch 30/100\n",
            "90/90 [==============================] - 0s 4ms/step - RMSE: 0.1295 - loss: 0.0168 - regularization_loss: 0.0000e+00 - total_loss: 0.0168\n",
            "Epoch 31/100\n",
            "90/90 [==============================] - 0s 4ms/step - RMSE: 0.1294 - loss: 0.0167 - regularization_loss: 0.0000e+00 - total_loss: 0.0167\n",
            "Epoch 32/100\n",
            "90/90 [==============================] - 0s 4ms/step - RMSE: 0.1294 - loss: 0.0167 - regularization_loss: 0.0000e+00 - total_loss: 0.0167\n",
            "Epoch 33/100\n",
            "90/90 [==============================] - 0s 4ms/step - RMSE: 0.1293 - loss: 0.0167 - regularization_loss: 0.0000e+00 - total_loss: 0.0167\n",
            "Epoch 34/100\n",
            "90/90 [==============================] - 0s 4ms/step - RMSE: 0.1293 - loss: 0.0167 - regularization_loss: 0.0000e+00 - total_loss: 0.0167\n",
            "Epoch 35/100\n",
            "90/90 [==============================] - 0s 4ms/step - RMSE: 0.1292 - loss: 0.0167 - regularization_loss: 0.0000e+00 - total_loss: 0.0167\n",
            "Epoch 36/100\n",
            "90/90 [==============================] - 0s 4ms/step - RMSE: 0.1291 - loss: 0.0167 - regularization_loss: 0.0000e+00 - total_loss: 0.0167\n",
            "Epoch 37/100\n",
            "90/90 [==============================] - 0s 5ms/step - RMSE: 0.1291 - loss: 0.0167 - regularization_loss: 0.0000e+00 - total_loss: 0.0167\n",
            "Epoch 38/100\n",
            "90/90 [==============================] - 0s 4ms/step - RMSE: 0.1290 - loss: 0.0167 - regularization_loss: 0.0000e+00 - total_loss: 0.0167\n",
            "Epoch 39/100\n",
            "90/90 [==============================] - 0s 5ms/step - RMSE: 0.1290 - loss: 0.0166 - regularization_loss: 0.0000e+00 - total_loss: 0.0166\n",
            "Epoch 40/100\n",
            "90/90 [==============================] - 0s 4ms/step - RMSE: 0.1289 - loss: 0.0166 - regularization_loss: 0.0000e+00 - total_loss: 0.0166\n",
            "Epoch 41/100\n",
            "90/90 [==============================] - 0s 4ms/step - RMSE: 0.1289 - loss: 0.0166 - regularization_loss: 0.0000e+00 - total_loss: 0.0166\n",
            "Epoch 42/100\n",
            "90/90 [==============================] - 0s 5ms/step - RMSE: 0.1288 - loss: 0.0166 - regularization_loss: 0.0000e+00 - total_loss: 0.0166\n",
            "Epoch 43/100\n",
            "90/90 [==============================] - 1s 6ms/step - RMSE: 0.1288 - loss: 0.0166 - regularization_loss: 0.0000e+00 - total_loss: 0.0166\n",
            "Epoch 44/100\n",
            "90/90 [==============================] - 0s 4ms/step - RMSE: 0.1287 - loss: 0.0166 - regularization_loss: 0.0000e+00 - total_loss: 0.0166\n",
            "Epoch 45/100\n",
            "90/90 [==============================] - 0s 4ms/step - RMSE: 0.1286 - loss: 0.0165 - regularization_loss: 0.0000e+00 - total_loss: 0.0165\n",
            "Epoch 46/100\n",
            "90/90 [==============================] - 1s 7ms/step - RMSE: 0.1286 - loss: 0.0165 - regularization_loss: 0.0000e+00 - total_loss: 0.0165\n",
            "Epoch 47/100\n",
            "90/90 [==============================] - 1s 7ms/step - RMSE: 0.1285 - loss: 0.0165 - regularization_loss: 0.0000e+00 - total_loss: 0.0165\n",
            "Epoch 48/100\n",
            "90/90 [==============================] - 1s 7ms/step - RMSE: 0.1283 - loss: 0.0165 - regularization_loss: 0.0000e+00 - total_loss: 0.0165\n",
            "Epoch 49/100\n",
            "90/90 [==============================] - 1s 7ms/step - RMSE: 0.1281 - loss: 0.0164 - regularization_loss: 0.0000e+00 - total_loss: 0.0164\n",
            "Epoch 50/100\n",
            "90/90 [==============================] - 0s 4ms/step - RMSE: 0.1279 - loss: 0.0164 - regularization_loss: 0.0000e+00 - total_loss: 0.0164\n",
            "Epoch 51/100\n",
            "90/90 [==============================] - 0s 4ms/step - RMSE: 0.1278 - loss: 0.0163 - regularization_loss: 0.0000e+00 - total_loss: 0.0163\n",
            "Epoch 52/100\n",
            "90/90 [==============================] - 0s 4ms/step - RMSE: 0.1277 - loss: 0.0163 - regularization_loss: 0.0000e+00 - total_loss: 0.0163\n",
            "Epoch 53/100\n",
            "90/90 [==============================] - 0s 4ms/step - RMSE: 0.1276 - loss: 0.0163 - regularization_loss: 0.0000e+00 - total_loss: 0.0163\n",
            "Epoch 54/100\n",
            "90/90 [==============================] - 0s 4ms/step - RMSE: 0.1275 - loss: 0.0162 - regularization_loss: 0.0000e+00 - total_loss: 0.0162\n",
            "Epoch 55/100\n",
            "90/90 [==============================] - 0s 4ms/step - RMSE: 0.1274 - loss: 0.0162 - regularization_loss: 0.0000e+00 - total_loss: 0.0162\n",
            "Epoch 56/100\n",
            "90/90 [==============================] - 0s 4ms/step - RMSE: 0.1273 - loss: 0.0162 - regularization_loss: 0.0000e+00 - total_loss: 0.0162\n",
            "Epoch 57/100\n",
            "90/90 [==============================] - 0s 4ms/step - RMSE: 0.1271 - loss: 0.0162 - regularization_loss: 0.0000e+00 - total_loss: 0.0162\n",
            "Epoch 58/100\n",
            "90/90 [==============================] - 0s 4ms/step - RMSE: 0.1270 - loss: 0.0161 - regularization_loss: 0.0000e+00 - total_loss: 0.0161\n",
            "Epoch 59/100\n",
            "90/90 [==============================] - 0s 4ms/step - RMSE: 0.1269 - loss: 0.0161 - regularization_loss: 0.0000e+00 - total_loss: 0.0161\n",
            "Epoch 60/100\n",
            "90/90 [==============================] - 0s 4ms/step - RMSE: 0.1268 - loss: 0.0161 - regularization_loss: 0.0000e+00 - total_loss: 0.0161\n",
            "Epoch 61/100\n",
            "90/90 [==============================] - 1s 9ms/step - RMSE: 0.1266 - loss: 0.0160 - regularization_loss: 0.0000e+00 - total_loss: 0.0160\n",
            "Epoch 62/100\n",
            "90/90 [==============================] - 0s 5ms/step - RMSE: 0.1265 - loss: 0.0160 - regularization_loss: 0.0000e+00 - total_loss: 0.0160\n",
            "Epoch 63/100\n",
            "90/90 [==============================] - 1s 9ms/step - RMSE: 0.1263 - loss: 0.0160 - regularization_loss: 0.0000e+00 - total_loss: 0.0160\n",
            "Epoch 64/100\n",
            "90/90 [==============================] - 1s 7ms/step - RMSE: 0.1261 - loss: 0.0159 - regularization_loss: 0.0000e+00 - total_loss: 0.0159\n",
            "Epoch 65/100\n",
            "90/90 [==============================] - 1s 7ms/step - RMSE: 0.1260 - loss: 0.0159 - regularization_loss: 0.0000e+00 - total_loss: 0.0159\n",
            "Epoch 66/100\n",
            "90/90 [==============================] - 0s 4ms/step - RMSE: 0.1258 - loss: 0.0158 - regularization_loss: 0.0000e+00 - total_loss: 0.0158\n",
            "Epoch 67/100\n",
            "90/90 [==============================] - 1s 6ms/step - RMSE: 0.1256 - loss: 0.0158 - regularization_loss: 0.0000e+00 - total_loss: 0.0158\n",
            "Epoch 68/100\n",
            "90/90 [==============================] - 1s 8ms/step - RMSE: 0.1254 - loss: 0.0157 - regularization_loss: 0.0000e+00 - total_loss: 0.0157\n",
            "Epoch 69/100\n",
            "90/90 [==============================] - 1s 7ms/step - RMSE: 0.1252 - loss: 0.0157 - regularization_loss: 0.0000e+00 - total_loss: 0.0157\n",
            "Epoch 70/100\n",
            "90/90 [==============================] - 0s 5ms/step - RMSE: 0.1249 - loss: 0.0156 - regularization_loss: 0.0000e+00 - total_loss: 0.0156\n",
            "Epoch 71/100\n",
            "90/90 [==============================] - 0s 4ms/step - RMSE: 0.1246 - loss: 0.0155 - regularization_loss: 0.0000e+00 - total_loss: 0.0155\n",
            "Epoch 72/100\n",
            "90/90 [==============================] - 0s 4ms/step - RMSE: 0.1243 - loss: 0.0155 - regularization_loss: 0.0000e+00 - total_loss: 0.0155\n",
            "Epoch 73/100\n",
            "90/90 [==============================] - 0s 4ms/step - RMSE: 0.1241 - loss: 0.0154 - regularization_loss: 0.0000e+00 - total_loss: 0.0154\n",
            "Epoch 74/100\n",
            "90/90 [==============================] - 0s 4ms/step - RMSE: 0.1237 - loss: 0.0153 - regularization_loss: 0.0000e+00 - total_loss: 0.0153\n",
            "Epoch 75/100\n",
            "90/90 [==============================] - 0s 4ms/step - RMSE: 0.1234 - loss: 0.0152 - regularization_loss: 0.0000e+00 - total_loss: 0.0152\n",
            "Epoch 76/100\n",
            "90/90 [==============================] - 0s 4ms/step - RMSE: 0.1230 - loss: 0.0151 - regularization_loss: 0.0000e+00 - total_loss: 0.0151\n",
            "Epoch 77/100\n",
            "90/90 [==============================] - 0s 4ms/step - RMSE: 0.1225 - loss: 0.0150 - regularization_loss: 0.0000e+00 - total_loss: 0.0150\n",
            "Epoch 78/100\n",
            "90/90 [==============================] - 0s 4ms/step - RMSE: 0.1221 - loss: 0.0149 - regularization_loss: 0.0000e+00 - total_loss: 0.0149\n",
            "Epoch 79/100\n",
            "90/90 [==============================] - 0s 4ms/step - RMSE: 0.1216 - loss: 0.0148 - regularization_loss: 0.0000e+00 - total_loss: 0.0148\n",
            "Epoch 80/100\n",
            "90/90 [==============================] - 0s 4ms/step - RMSE: 0.1210 - loss: 0.0146 - regularization_loss: 0.0000e+00 - total_loss: 0.0146\n",
            "Epoch 81/100\n",
            "90/90 [==============================] - 0s 4ms/step - RMSE: 0.1204 - loss: 0.0145 - regularization_loss: 0.0000e+00 - total_loss: 0.0145\n",
            "Epoch 82/100\n",
            "90/90 [==============================] - 0s 4ms/step - RMSE: 0.1199 - loss: 0.0144 - regularization_loss: 0.0000e+00 - total_loss: 0.0144\n",
            "Epoch 83/100\n",
            "90/90 [==============================] - 0s 4ms/step - RMSE: 0.1191 - loss: 0.0142 - regularization_loss: 0.0000e+00 - total_loss: 0.0142\n",
            "Epoch 84/100\n",
            "90/90 [==============================] - 0s 4ms/step - RMSE: 0.1182 - loss: 0.0140 - regularization_loss: 0.0000e+00 - total_loss: 0.0140\n",
            "Epoch 85/100\n",
            "90/90 [==============================] - 0s 4ms/step - RMSE: 0.1171 - loss: 0.0137 - regularization_loss: 0.0000e+00 - total_loss: 0.0137\n",
            "Epoch 86/100\n",
            "90/90 [==============================] - 0s 4ms/step - RMSE: 0.1158 - loss: 0.0134 - regularization_loss: 0.0000e+00 - total_loss: 0.0134\n",
            "Epoch 87/100\n",
            "90/90 [==============================] - 0s 4ms/step - RMSE: 0.1142 - loss: 0.0130 - regularization_loss: 0.0000e+00 - total_loss: 0.0130\n",
            "Epoch 88/100\n",
            "90/90 [==============================] - 0s 4ms/step - RMSE: 0.1123 - loss: 0.0126 - regularization_loss: 0.0000e+00 - total_loss: 0.0126\n",
            "Epoch 89/100\n",
            "90/90 [==============================] - 0s 4ms/step - RMSE: 0.1101 - loss: 0.0121 - regularization_loss: 0.0000e+00 - total_loss: 0.0121\n",
            "Epoch 90/100\n",
            "90/90 [==============================] - 0s 4ms/step - RMSE: 0.1066 - loss: 0.0113 - regularization_loss: 0.0000e+00 - total_loss: 0.0113\n",
            "Epoch 91/100\n",
            "90/90 [==============================] - 0s 4ms/step - RMSE: 0.1022 - loss: 0.0104 - regularization_loss: 0.0000e+00 - total_loss: 0.0104\n",
            "Epoch 92/100\n",
            "90/90 [==============================] - 0s 5ms/step - RMSE: 0.0977 - loss: 0.0095 - regularization_loss: 0.0000e+00 - total_loss: 0.0095\n",
            "Epoch 93/100\n",
            "90/90 [==============================] - 0s 5ms/step - RMSE: 0.0925 - loss: 0.0085 - regularization_loss: 0.0000e+00 - total_loss: 0.0085\n",
            "Epoch 94/100\n",
            "90/90 [==============================] - 1s 7ms/step - RMSE: 0.0869 - loss: 0.0075 - regularization_loss: 0.0000e+00 - total_loss: 0.0075\n",
            "Epoch 95/100\n",
            "90/90 [==============================] - 1s 7ms/step - RMSE: 0.0802 - loss: 0.0064 - regularization_loss: 0.0000e+00 - total_loss: 0.0064\n",
            "Epoch 96/100\n",
            "90/90 [==============================] - 1s 7ms/step - RMSE: 0.0740 - loss: 0.0055 - regularization_loss: 0.0000e+00 - total_loss: 0.0055\n",
            "Epoch 97/100\n",
            "90/90 [==============================] - 0s 4ms/step - RMSE: 0.0679 - loss: 0.0046 - regularization_loss: 0.0000e+00 - total_loss: 0.0046\n",
            "Epoch 98/100\n",
            "90/90 [==============================] - 0s 4ms/step - RMSE: 0.0634 - loss: 0.0040 - regularization_loss: 0.0000e+00 - total_loss: 0.0040\n",
            "Epoch 99/100\n",
            "90/90 [==============================] - 0s 5ms/step - RMSE: 0.0590 - loss: 0.0035 - regularization_loss: 0.0000e+00 - total_loss: 0.0035\n",
            "Epoch 100/100\n",
            "90/90 [==============================] - 0s 4ms/step - RMSE: 0.0560 - loss: 0.0031 - regularization_loss: 0.0000e+00 - total_loss: 0.0031\n"
          ]
        },
        {
          "output_type": "execute_result",
          "data": {
            "text/plain": [
              "<keras.src.callbacks.History at 0x7ddcac481840>"
            ]
          },
          "metadata": {},
          "execution_count": 10
        }
      ],
      "source": [
        "deepnet.compile(optimizer=tf.keras.optimizers.Adagrad(learning_rate))\n",
        "deepnet.fit(train_data, epochs=epochs, verbose=True)"
      ]
    },
    {
      "cell_type": "markdown",
      "metadata": {
        "id": "xxWfaY6H7Bmp"
      },
      "source": [
        "### Model evaluation\n",
        "We verify the model performance on the evaluation dataset and report the Root Mean Squared Error (RMSE, the lower the better)."
      ]
    },
    {
      "cell_type": "code",
      "execution_count": null,
      "metadata": {
        "id": "l4PM-goX6FoD",
        "colab": {
          "base_uri": "https://localhost:8080/"
        },
        "outputId": "51b34e1f-22d0-44ab-a555-034629d5aa9a"
      },
      "outputs": [
        {
          "output_type": "stream",
          "name": "stdout",
          "text": [
            "CrossNet(1 layer) RMSE is 0.0050 using 16 parameters.\n",
            "DeepNet(large) RMSE is 0.0482 using 166401 parameters.\n"
          ]
        }
      ],
      "source": [
        "crossnet_result = crossnet.evaluate(eval_data, return_dict=True, verbose=False)\n",
        "print(f\"CrossNet(1 layer) RMSE is {crossnet_result['RMSE']:.4f} \"\n",
        "      f\"using {crossnet.count_params()} parameters.\")\n",
        "\n",
        "deepnet_result = deepnet.evaluate(eval_data, return_dict=True, verbose=False)\n",
        "print(f\"DeepNet(large) RMSE is {deepnet_result['RMSE']:.4f} \"\n",
        "      f\"using {deepnet.count_params()} parameters.\")"
      ]
    },
    {
      "cell_type": "markdown",
      "metadata": {
        "id": "6_Ig-Gnm7-JD"
      },
      "source": [
        "We see that the cross network achieved **magnitudes lower RMSE** than a ReLU-based DNN, with **magnitudes fewer parameters**. This has suggested the efficieny of a cross network in learning feaure crosses.  "
      ]
    },
    {
      "cell_type": "markdown",
      "metadata": {
        "id": "XsCsY1-Us-_e"
      },
      "source": [
        "### Model understanding\n",
        "We already know what feature crosses are important in our data, it would be fun to check whether our model has indeed learned the important feature cross. This can be done by visualizing the learned weight matrix in DCN. The weight $W_{ij}$ represents the learned importance of interaction between feature $x_i$ and $x_j$."
      ]
    },
    {
      "cell_type": "code",
      "execution_count": null,
      "metadata": {
        "id": "N8dga2Qck5IV",
        "colab": {
          "base_uri": "https://localhost:8080/"
        },
        "outputId": "24fe6aab-b157-41c9-b015-b9cc78c83654"
      },
      "outputs": [
        {
          "output_type": "stream",
          "name": "stderr",
          "text": [
            "<ipython-input-12-ce01dcd0017d>:11: UserWarning: FixedFormatter should only be used together with FixedLocator\n",
            "  _ = ax.set_xticklabels([''] + features, rotation=45, fontsize=10)\n",
            "<ipython-input-12-ce01dcd0017d>:12: UserWarning: FixedFormatter should only be used together with FixedLocator\n",
            "  _ = ax.set_yticklabels([''] + features, fontsize=10)\n"
          ]
        },
        {
          "output_type": "display_data",
          "data": {
            "text/plain": [
              "<Figure size 900x900 with 0 Axes>"
            ]
          },
          "metadata": {}
        },
        {
          "output_type": "display_data",
          "data": {
            "text/plain": [
              "<Figure size 480x480 with 2 Axes>"
            ],
            "image/png": "[encoded data removed]"
          },
          "metadata": {}
        }
      ],
      "source": [
        "mat = crossnet._model._dense.kernel\n",
        "features = [\"country\", \"purchased_bananas\", \"purchased_cookbooks\"]\n",
        "\n",
        "plt.figure(figsize=(9,9))\n",
        "im = plt.matshow(np.abs(mat.numpy()), cmap=plt.cm.Blues)\n",
        "ax = plt.gca()\n",
        "divider = make_axes_locatable(plt.gca())\n",
        "cax = divider.append_axes(\"right\", size=\"5%\", pad=0.05)\n",
        "plt.colorbar(im, cax=cax)\n",
        "cax.tick_params(labelsize=10)\n",
        "_ = ax.set_xticklabels([''] + features, rotation=45, fontsize=10)\n",
        "_ = ax.set_yticklabels([''] + features, fontsize=10)"
      ]
    },
    {
      "cell_type": "markdown",
      "metadata": {
        "id": "bQHVZTu03qvi"
      },
      "source": [
        "Darker colours represent stronger learned interactions - in this case, it's clear that the model learned that purchasing babanas and cookbooks together is important."
      ]
    },
    {
      "cell_type": "markdown",
      "metadata": {
        "id": "0wU4FcpfHCZM"
      },
      "source": [
        "## Movielens 1M example\n",
        "We now examine the effectiveness of DCN on a real-world dataset: Movielens 1M. Movielens 1M is a popular dataset for recommendation research. It predicts users' movie ratings given user-related features and movie-related features. We use this dataset to demonstrate some common ways to utilize DCN."
      ]
    },
    {
      "cell_type": "markdown",
      "metadata": {
        "id": "8Rvlem07wfwH"
      },
      "source": [
        "### Data processing"
      ]
    },
    {
      "cell_type": "code",
      "execution_count": null,
      "metadata": {
        "id": "7Y_n3EPosR4A",
        "colab": {
          "base_uri": "https://localhost:8080/",
          "height": 165,
          "referenced_widgets": [
            "452e35fe01d346768d5f44a9b40c728e",
            "edd9d265631f46199e6970a0922e223e",
            "2b9a2be96d8c49f89385551e364f6735",
            "f5142ca5181141bb805ed4f3baea03da",
            "99dd49ec3c2341aa9b043a0158e1f752",
            "26ca0b352b1f4b248ba3ab230bcf4a23",
            "3a02e1e3fae345858ea4bfa8a1366ba4",
            "3e78e23ca2d74d3abf34ce7b8662083c",
            "a4e4183e80ad435fa270115b078cd7a1",
            "62e71ac9a7a24e20a67ad8cd98dce461",
            "f47816509c8a4a6d87edb77c563e4493",
            "7588dd3fbddf4d8b91e54e6264f1cfd9",
            "4af6cbe835aa45f4a4c9678841af4a96",
            "33e19f32022643c4b5b52f8ab1f9b271",
            "bb258e4b220141c29162fbfa5e2fdceb",
            "b913cf3765a24c13bd3ed72f96477c16",
            "3714ae5b4e1944cf9307ba7f307f4736",
            "bebb8ec627614438be9b4960e4a6539e",
            "7b3655426ef246819f89d63fd8c90045",
            "559c3c12a899484db1835fc94ab04940",
            "b7e0c14cb2c545c5b202a11235a4aa2d",
            "cef1df1755104c1eb388dbb90ce39703",
            "f0ed1809933b4520b57f05fcc2c9856c",
            "c5162f2b30554f3bbf35d69e26964f03",
            "aa0e156f28a04bbe86f87baf031c4f06",
            "4c779702ae19405e90fc18e792d00420",
            "376bbbc3a00b4b63be1a8be7807f82df",
            "5844408400e24a92a434e438e28ec8ef",
            "0d1dcd6bbdc14144aab65864af43caf5",
            "9bf0f096dd954af1804dc9b78da81336",
            "3c48752033f74a3aa699b2c8ba3c453f",
            "a0857dc9a65b4fe6b9f7034950401888",
            "39c6e892e86849aea330acbb57b31ddd",
            "5ebbca38afa44b249759417254c7f180",
            "01787d6beeeb475c91bc7ba13f3cd842",
            "911bd284055744588fff3555b456876d",
            "4e2ebf241f574d5eb8e7788223d2e11f",
            "fa313d95bbe24274aad23c0a97094f2b",
            "3452e2abcaca4d54b755299c7c28b7df",
            "81fdb71cf07e4d109757539694f952fd",
            "5aa2206f393f4ea5a8e42ce364120258",
            "633ae161efe2446096c196e78980870c",
            "2958e8fae8bc4476a3a4519a10ac328c",
            "9c641f8bd214481ab67655abe2c4faa9",
            "e1b842d04b1f45b6a3c3e5260fc0652d",
            "bac758a21d46411c815863ec50d2b51f",
            "43dba2dcda4f4e53a96a451855ef7a69",
            "79b55fc49c65451792ca5f6710849a2e",
            "7adb76e4b4024168a4308174312d2392",
            "b745d4735edb43f09a1c170cf101854e",
            "2ab0747d87cb47d5b08ef6773f567a21",
            "92f9d1723fc74dc19e0539ff450f909c",
            "0717e2b448ee47d3979ab7c5b68e0b43",
            "b1f62c40b3034feeaa32c58624320fe9",
            "a9e249fe1c4942a486cc915955c88fbc",
            "291b979a9661415085205711a99abcea",
            "80b88bae7b684b1d8948eaca13c3a2af",
            "812330be38a347fbaec9d51690a3de1b",
            "fd49465361794bb193558f5f1dd336d2",
            "49fe0ec072af4bfd9a0f8bfce7a94a58",
            "c4e4b5c3090644f4862d449f768b5d82",
            "134f4110a68b45b7b142b70bc14b9e7f",
            "36f41ceeb23145249ad513caaed84a46",
            "2f9999719b59465f8f8da18bc06e00e8",
            "fa0003cee0cd4a3fb55fd3b19fcb9776",
            "2a4142d564a749e3986d53db882b3d11"
          ]
        },
        "outputId": "f932c3fb-775f-437d-a9e4-7fc54a66394a"
      },
      "outputs": [
        {
          "output_type": "stream",
          "name": "stderr",
          "text": [
            "WARNING:absl:The handle \"movie_lens\" for the MovieLens dataset is deprecated. Prefer using \"movielens\" instead.\n"
          ]
        },
        {
          "output_type": "stream",
          "name": "stdout",
          "text": [
            "Downloading and preparing dataset 4.70 MiB (download: 4.70 MiB, generated: 32.41 MiB, total: 37.10 MiB) to /root/tensorflow_datasets/movie_lens/100k-ratings/0.1.1...\n"
          ]
        },
        {
          "output_type": "display_data",
          "data": {
            "text/plain": [
              "Dl Completed...: 0 url [00:00, ? url/s]"
            ],
            "application/vnd.jupyter.widget-view+json": {
              "version_major": 2,
              "version_minor": 0,
              "model_id": "452e35fe01d346768d5f44a9b40c728e"
            }
          },
          "metadata": {}
        },
        {
          "output_type": "display_data",
          "data": {
            "text/plain": [
              "Dl Size...: 0 MiB [00:00, ? MiB/s]"
            ],
            "application/vnd.jupyter.widget-view+json": {
              "version_major": 2,
              "version_minor": 0,
              "model_id": "7588dd3fbddf4d8b91e54e6264f1cfd9"
            }
          },
          "metadata": {}
        },
        {
          "output_type": "display_data",
          "data": {
            "text/plain": [
              "Extraction completed...: 0 file [00:00, ? file/s]"
            ],
            "application/vnd.jupyter.widget-view+json": {
              "version_major": 2,
              "version_minor": 0,
              "model_id": "f0ed1809933b4520b57f05fcc2c9856c"
            }
          },
          "metadata": {}
        },
        {
          "output_type": "display_data",
          "data": {
            "text/plain": [
              "Generating splits...:   0%|          | 0/1 [00:00<?, ? splits/s]"
            ],
            "application/vnd.jupyter.widget-view+json": {
              "version_major": 2,
              "version_minor": 0,
              "model_id": "5ebbca38afa44b249759417254c7f180"
            }
          },
          "metadata": {}
        },
        {
          "output_type": "display_data",
          "data": {
            "text/plain": [
              "Generating train examples...:   0%|          | 0/100000 [00:00<?, ? examples/s]"
            ],
            "application/vnd.jupyter.widget-view+json": {
              "version_major": 2,
              "version_minor": 0,
              "model_id": "e1b842d04b1f45b6a3c3e5260fc0652d"
            }
          },
          "metadata": {}
        },
        {
          "output_type": "display_data",
          "data": {
            "text/plain": [
              "Shuffling /root/tensorflow_datasets/movie_lens/100k-ratings/0.1.1.incompleteMG4KNQ/movie_lens-train.tfrecord*.…"
            ],
            "application/vnd.jupyter.widget-view+json": {
              "version_major": 2,
              "version_minor": 0,
              "model_id": "291b979a9661415085205711a99abcea"
            }
          },
          "metadata": {}
        },
        {
          "output_type": "stream",
          "name": "stdout",
          "text": [
            "Dataset movie_lens downloaded and prepared to /root/tensorflow_datasets/movie_lens/100k-ratings/0.1.1. Subsequent calls will reuse this data.\n"
          ]
        }
      ],
      "source": [
        "ratings = tfds.load(\"movie_lens/100k-ratings\", split=\"train\")\n",
        "ratings = ratings.map(lambda x: {\n",
        "    \"movie_id\": x[\"movie_id\"],\n",
        "    \"user_id\": x[\"user_id\"],\n",
        "    \"user_rating\": x[\"user_rating\"],\n",
        "    \"user_gender\": int(x[\"user_gender\"]),\n",
        "    \"user_zip_code\": x[\"user_zip_code\"],\n",
        "    \"user_occupation_text\": x[\"user_occupation_text\"],\n",
        "    \"bucketized_user_age\": int(x[\"bucketized_user_age\"]),\n",
        "})"
      ]
    },
    {
      "cell_type": "markdown",
      "metadata": {
        "id": "2Yb3KxrgSHiF"
      },
      "source": [
        "Next, we randomly split the data into 80% for training and 20% for testing.\n"
      ]
    },
    {
      "cell_type": "code",
      "execution_count": null,
      "metadata": {
        "id": "a5-l91jR_zEo"
      },
      "outputs": [],
      "source": [
        "tf.random.set_seed(42)\n",
        "shuffled = ratings.shuffle(100_000, seed=42, reshuffle_each_iteration=False)\n",
        "\n",
        "train = shuffled.take(80_000)\n",
        "test = shuffled.skip(80_000).take(20_000)"
      ]
    },
    {
      "cell_type": "markdown",
      "metadata": {
        "id": "MRHGa9mESMVz"
      },
      "source": [
        "Then, we create vocabulary for each feature."
      ]
    },
    {
      "cell_type": "code",
      "execution_count": null,
      "metadata": {
        "id": "l9qhEcHq_VfI"
      },
      "outputs": [],
      "source": [
        "feature_names = [\"movie_id\", \"user_id\", \"user_gender\", \"user_zip_code\",\n",
        "                 \"user_occupation_text\", \"bucketized_user_age\"]\n",
        "\n",
        "vocabularies = {}\n",
        "\n",
        "for feature_name in feature_names:\n",
        "  vocab = ratings.batch(1_000_000).map(lambda x: x[feature_name])\n",
        "  vocabularies[feature_name] = np.unique(np.concatenate(list(vocab)))"
      ]
    },
    {
      "cell_type": "markdown",
      "metadata": {
        "id": "Eti8kNkPSORk"
      },
      "source": [
        "### Model construction\n",
        "\n",
        "The model architecture we will be building starts with an embedding layer, which is fed into a cross network followed by a deep network. The embedding dimension is set to 32 for all the features. You could also use different embedding sizes for different features."
      ]
    },
    {
      "cell_type": "code",
      "execution_count": null,
      "metadata": {
        "id": "6lrDcBjiwnHU"
      },
      "outputs": [],
      "source": [
        "class DCN(tfrs.Model):\n",
        "\n",
        "  def __init__(self, use_cross_layer, deep_layer_sizes, projection_dim=None):\n",
        "    super().__init__()\n",
        "\n",
        "    self.embedding_dimension = 32\n",
        "\n",
        "    str_features = [\"movie_id\", \"user_id\", \"user_zip_code\",\n",
        "                    \"user_occupation_text\"]\n",
        "    int_features = [\"user_gender\", \"bucketized_user_age\"]\n",
        "\n",
        "    self._all_features = str_features + int_features\n",
        "    self._embeddings = {}\n",
        "\n",
        "    # Compute embeddings for string features.\n",
        "    for feature_name in str_features:\n",
        "      vocabulary = vocabularies[feature_name]\n",
        "      self._embeddings[feature_name] = tf.keras.Sequential(\n",
        "          [tf.keras.layers.StringLookup(\n",
        "              vocabulary=vocabulary, mask_token=None),\n",
        "           tf.keras.layers.Embedding(len(vocabulary) + 1,\n",
        "                                     self.embedding_dimension)\n",
        "    ])\n",
        "\n",
        "    # Compute embeddings for int features.\n",
        "    for feature_name in int_features:\n",
        "      vocabulary = vocabularies[feature_name]\n",
        "      self._embeddings[feature_name] = tf.keras.Sequential(\n",
        "          [tf.keras.layers.IntegerLookup(\n",
        "              vocabulary=vocabulary, mask_value=None),\n",
        "           tf.keras.layers.Embedding(len(vocabulary) + 1,\n",
        "                                     self.embedding_dimension)\n",
        "    ])\n",
        "\n",
        "    if use_cross_layer:\n",
        "      self._cross_layer = tfrs.layers.dcn.Cross(\n",
        "          projection_dim=projection_dim,\n",
        "          kernel_initializer=\"glorot_uniform\")\n",
        "    else:\n",
        "      self._cross_layer = None\n",
        "\n",
        "    self._deep_layers = [tf.keras.layers.Dense(layer_size, activation=\"relu\")\n",
        "      for layer_size in deep_layer_sizes]\n",
        "\n",
        "    self._logit_layer = tf.keras.layers.Dense(1)\n",
        "\n",
        "    self.task = tfrs.tasks.Ranking(\n",
        "      loss=tf.keras.losses.MeanSquaredError(),\n",
        "      metrics=[tf.keras.metrics.RootMeanSquaredError(\"RMSE\")]\n",
        "    )\n",
        "\n",
        "  def call(self, features):\n",
        "    # Concatenate embeddings\n",
        "    embeddings = []\n",
        "    for feature_name in self._all_features:\n",
        "      embedding_fn = self._embeddings[feature_name]\n",
        "      embeddings.append(embedding_fn(features[feature_name]))\n",
        "\n",
        "    x = tf.concat(embeddings, axis=1)\n",
        "\n",
        "    # Build Cross Network\n",
        "    if self._cross_layer is not None:\n",
        "      x = self._cross_layer(x)\n",
        "\n",
        "    # Build Deep Network\n",
        "    for deep_layer in self._deep_layers:\n",
        "      x = deep_layer(x)\n",
        "\n",
        "    return self._logit_layer(x)\n",
        "\n",
        "  def compute_loss(self, features, training=False):\n",
        "    labels = features.pop(\"user_rating\")\n",
        "    scores = self(features)\n",
        "    return self.task(\n",
        "        labels=labels,\n",
        "        predictions=scores,\n",
        "    )"
      ]
    },
    {
      "cell_type": "markdown",
      "metadata": {
        "id": "jDiRfzwVW9LH"
      },
      "source": [
        "### Model training\n",
        "We shuffle, batch and cache the training and test data.\n"
      ]
    },
    {
      "cell_type": "code",
      "execution_count": null,
      "metadata": {
        "id": "qeFjmfUbgzcS"
      },
      "outputs": [],
      "source": [
        "cached_train = train.shuffle(100_000).batch(8192).cache()\n",
        "cached_test = test.batch(4096).cache()"
      ]
    },
    {
      "cell_type": "markdown",
      "metadata": {
        "id": "5adSI3yOt2VQ"
      },
      "source": [
        "Let's define a function that runs a model multiple times and returns the model's RMSE mean and standard deviation out of multiple runs."
      ]
    },
    {
      "cell_type": "code",
      "execution_count": null,
      "metadata": {
        "id": "gTDk3GloquHO"
      },
      "outputs": [],
      "source": [
        "def run_models(use_cross_layer, deep_layer_sizes, projection_dim=None, num_runs=5):\n",
        "  models = []\n",
        "  rmses = []\n",
        "\n",
        "  for i in range(num_runs):\n",
        "    model = DCN(use_cross_layer=use_cross_layer,\n",
        "                deep_layer_sizes=deep_layer_sizes,\n",
        "                projection_dim=projection_dim)\n",
        "    model.compile(optimizer=tf.keras.optimizers.Adam(learning_rate))\n",
        "    models.append(model)\n",
        "\n",
        "    model.fit(cached_train, epochs=epochs, verbose=True)\n",
        "    metrics = model.evaluate(cached_test, return_dict=True)\n",
        "    rmses.append(metrics[\"RMSE\"])\n",
        "\n",
        "  mean, stdv = np.average(rmses), np.std(rmses)\n",
        "\n",
        "  return {\"model\": models, \"mean\": mean, \"stdv\": stdv}"
      ]
    },
    {
      "cell_type": "markdown",
      "metadata": {
        "id": "ZRHjQ8g2h2-k"
      },
      "source": [
        "We set some hyper-parameters for the models. Note that these hyper-parameters are set globally for all the models for demonstration purpose. If you want to obtain the best performance for each model, or conduct a fair comparison among models, then we'd suggest you to fine-tune the hyper-parameters. Remember that the model architecture and optimization schemes are intertwined."
      ]
    },
    {
      "cell_type": "code",
      "execution_count": null,
      "metadata": {
        "id": "Zy3kWb5Dh0E7"
      },
      "outputs": [],
      "source": [
        "epochs = 8\n",
        "learning_rate = 0.01"
      ]
    },
    {
      "cell_type": "markdown",
      "metadata": {
        "id": "Nz3ftiQLXdC0"
      },
      "source": [
        "**DCN (stacked).** We first train a DCN model with a stacked structure, that is, the inputs are fed to a cross network followed by a deep network.\n",
        "<div>\n",
        "<center>\n",
        "<img src=\"http://drive.google.com/uc?export=view&id=1X8qoMtIYKJz4yBYifvfw4QpAwrjr70e_\" width=\"140\"/>\n",
        "</center>\n",
        "</div>\n"
      ]
    },
    {
      "cell_type": "code",
      "execution_count": null,
      "metadata": {
        "id": "hiuYPJWhgw3J",
        "colab": {
          "base_uri": "https://localhost:8080/"
        },
        "outputId": "2d8cf8cb-d1ae-42ff-aa4c-030cc627b74d"
      },
      "outputs": [
        {
          "output_type": "stream",
          "name": "stderr",
          "text": [
            "WARNING:tensorflow:mask_value is deprecated, use mask_token instead.\n"
          ]
        },
        {
          "output_type": "stream",
          "name": "stdout",
          "text": [
            "Epoch 1/8\n",
            "10/10 [==============================] - 11s 491ms/step - RMSE: 2.1447 - loss: 4.2211 - regularization_loss: 0.0000e+00 - total_loss: 4.2211\n",
            "Epoch 2/8\n",
            "10/10 [==============================] - 0s 15ms/step - RMSE: 1.1117 - loss: 1.2047 - regularization_loss: 0.0000e+00 - total_loss: 1.2047\n",
            "Epoch 3/8\n",
            "10/10 [==============================] - 0s 11ms/step - RMSE: 0.9736 - loss: 0.9406 - regularization_loss: 0.0000e+00 - total_loss: 0.9406\n",
            "Epoch 4/8\n",
            "10/10 [==============================] - 0s 12ms/step - RMSE: 0.9327 - loss: 0.8699 - regularization_loss: 0.0000e+00 - total_loss: 0.8699\n",
            "Epoch 5/8\n",
            "10/10 [==============================] - 0s 12ms/step - RMSE: 0.9180 - loss: 0.8447 - regularization_loss: 0.0000e+00 - total_loss: 0.8447\n",
            "Epoch 6/8\n",
            "10/10 [==============================] - 0s 10ms/step - RMSE: 0.9102 - loss: 0.8303 - regularization_loss: 0.0000e+00 - total_loss: 0.8303\n",
            "Epoch 7/8\n",
            "10/10 [==============================] - 0s 10ms/step - RMSE: 0.9042 - loss: 0.8190 - regularization_loss: 0.0000e+00 - total_loss: 0.8190\n",
            "Epoch 8/8\n",
            "10/10 [==============================] - 0s 10ms/step - RMSE: 0.8974 - loss: 0.8062 - regularization_loss: 0.0000e+00 - total_loss: 0.8062\n",
            "5/5 [==============================] - 4s 26ms/step - RMSE: 0.9309 - loss: 0.8668 - regularization_loss: 0.0000e+00 - total_loss: 0.8668\n",
            "Epoch 1/8\n",
            "10/10 [==============================] - 5s 237ms/step - RMSE: 2.0507 - loss: 3.8684 - regularization_loss: 0.0000e+00 - total_loss: 3.8684\n",
            "Epoch 2/8\n",
            "10/10 [==============================] - 0s 15ms/step - RMSE: 1.0304 - loss: 1.0527 - regularization_loss: 0.0000e+00 - total_loss: 1.0527\n",
            "Epoch 3/8\n",
            "10/10 [==============================] - 0s 16ms/step - RMSE: 0.9364 - loss: 0.8733 - regularization_loss: 0.0000e+00 - total_loss: 0.8733\n",
            "Epoch 4/8\n",
            "10/10 [==============================] - 0s 15ms/step - RMSE: 0.9176 - loss: 0.8430 - regularization_loss: 0.0000e+00 - total_loss: 0.8430\n",
            "Epoch 5/8\n",
            "10/10 [==============================] - 0s 15ms/step - RMSE: 0.9070 - loss: 0.8242 - regularization_loss: 0.0000e+00 - total_loss: 0.8242\n",
            "Epoch 6/8\n",
            "10/10 [==============================] - 0s 14ms/step - RMSE: 0.8986 - loss: 0.8082 - regularization_loss: 0.0000e+00 - total_loss: 0.8082\n",
            "Epoch 7/8\n",
            "10/10 [==============================] - 0s 11ms/step - RMSE: 0.8879 - loss: 0.7883 - regularization_loss: 0.0000e+00 - total_loss: 0.7883\n",
            "Epoch 8/8\n",
            "10/10 [==============================] - 0s 10ms/step - RMSE: 0.8756 - loss: 0.7658 - regularization_loss: 0.0000e+00 - total_loss: 0.7658\n",
            "5/5 [==============================] - 0s 5ms/step - RMSE: 0.9292 - loss: 0.8649 - regularization_loss: 0.0000e+00 - total_loss: 0.8649\n",
            "Epoch 1/8\n",
            "10/10 [==============================] - 4s 232ms/step - RMSE: 2.0757 - loss: 3.9574 - regularization_loss: 0.0000e+00 - total_loss: 3.9574\n",
            "Epoch 2/8\n",
            "10/10 [==============================] - 0s 11ms/step - RMSE: 1.0703 - loss: 1.1406 - regularization_loss: 0.0000e+00 - total_loss: 1.1406\n",
            "Epoch 3/8\n",
            "10/10 [==============================] - 0s 10ms/step - RMSE: 0.9525 - loss: 0.9050 - regularization_loss: 0.0000e+00 - total_loss: 0.9050\n",
            "Epoch 4/8\n",
            "10/10 [==============================] - 0s 11ms/step - RMSE: 0.9224 - loss: 0.8509 - regularization_loss: 0.0000e+00 - total_loss: 0.8509\n",
            "Epoch 5/8\n",
            "10/10 [==============================] - 0s 10ms/step - RMSE: 0.9098 - loss: 0.8290 - regularization_loss: 0.0000e+00 - total_loss: 0.8290\n",
            "Epoch 6/8\n",
            "10/10 [==============================] - 0s 10ms/step - RMSE: 0.9032 - loss: 0.8170 - regularization_loss: 0.0000e+00 - total_loss: 0.8170\n",
            "Epoch 7/8\n",
            "10/10 [==============================] - 0s 10ms/step - RMSE: 0.8952 - loss: 0.8022 - regularization_loss: 0.0000e+00 - total_loss: 0.8022\n",
            "Epoch 8/8\n",
            "10/10 [==============================] - 0s 11ms/step - RMSE: 0.8852 - loss: 0.7837 - regularization_loss: 0.0000e+00 - total_loss: 0.7837\n",
            "5/5 [==============================] - 0s 6ms/step - RMSE: 0.9278 - loss: 0.8615 - regularization_loss: 0.0000e+00 - total_loss: 0.8615\n",
            "Epoch 1/8\n",
            "10/10 [==============================] - 5s 282ms/step - RMSE: 2.2075 - loss: 4.4941 - regularization_loss: 0.0000e+00 - total_loss: 4.4941\n",
            "Epoch 2/8\n",
            "10/10 [==============================] - 0s 16ms/step - RMSE: 1.1475 - loss: 1.2835 - regularization_loss: 0.0000e+00 - total_loss: 1.2835\n",
            "Epoch 3/8\n",
            "10/10 [==============================] - 0s 17ms/step - RMSE: 0.9832 - loss: 0.9669 - regularization_loss: 0.0000e+00 - total_loss: 0.9669\n",
            "Epoch 4/8\n",
            "10/10 [==============================] - 0s 15ms/step - RMSE: 0.9371 - loss: 0.8824 - regularization_loss: 0.0000e+00 - total_loss: 0.8824\n",
            "Epoch 5/8\n",
            "10/10 [==============================] - 0s 15ms/step - RMSE: 0.9219 - loss: 0.8531 - regularization_loss: 0.0000e+00 - total_loss: 0.8531\n",
            "Epoch 6/8\n",
            "10/10 [==============================] - 0s 16ms/step - RMSE: 0.9131 - loss: 0.8360 - regularization_loss: 0.0000e+00 - total_loss: 0.8360\n",
            "Epoch 7/8\n",
            "10/10 [==============================] - 0s 16ms/step - RMSE: 0.9073 - loss: 0.8251 - regularization_loss: 0.0000e+00 - total_loss: 0.8251\n",
            "Epoch 8/8\n",
            "10/10 [==============================] - 0s 15ms/step - RMSE: 0.9013 - loss: 0.8137 - regularization_loss: 0.0000e+00 - total_loss: 0.8137\n",
            "5/5 [==============================] - 0s 7ms/step - RMSE: 0.9322 - loss: 0.8697 - regularization_loss: 0.0000e+00 - total_loss: 0.8697\n",
            "Epoch 1/8\n",
            "10/10 [==============================] - 4s 226ms/step - RMSE: 2.4210 - loss: 5.5915 - regularization_loss: 0.0000e+00 - total_loss: 5.5915\n",
            "Epoch 2/8\n",
            "10/10 [==============================] - 0s 12ms/step - RMSE: 1.2912 - loss: 1.6632 - regularization_loss: 0.0000e+00 - total_loss: 1.6632\n",
            "Epoch 3/8\n",
            "10/10 [==============================] - 0s 12ms/step - RMSE: 1.0428 - loss: 1.0784 - regularization_loss: 0.0000e+00 - total_loss: 1.0784\n",
            "Epoch 4/8\n",
            "10/10 [==============================] - 0s 10ms/step - RMSE: 0.9883 - loss: 0.9720 - regularization_loss: 0.0000e+00 - total_loss: 0.9720\n",
            "Epoch 5/8\n",
            "10/10 [==============================] - 0s 11ms/step - RMSE: 0.9358 - loss: 0.8776 - regularization_loss: 0.0000e+00 - total_loss: 0.8776\n",
            "Epoch 6/8\n",
            "10/10 [==============================] - 0s 11ms/step - RMSE: 0.9235 - loss: 0.8517 - regularization_loss: 0.0000e+00 - total_loss: 0.8517\n",
            "Epoch 7/8\n",
            "10/10 [==============================] - 0s 10ms/step - RMSE: 0.9156 - loss: 0.8396 - regularization_loss: 0.0000e+00 - total_loss: 0.8396\n",
            "Epoch 8/8\n",
            "10/10 [==============================] - 0s 10ms/step - RMSE: 0.9097 - loss: 0.8299 - regularization_loss: 0.0000e+00 - total_loss: 0.8299\n",
            "5/5 [==============================] - 0s 5ms/step - RMSE: 0.9356 - loss: 0.8758 - regularization_loss: 0.0000e+00 - total_loss: 0.8758\n"
          ]
        }
      ],
      "source": [
        "dcn_result = run_models(use_cross_layer=True,\n",
        "                        deep_layer_sizes=[192, 192])"
      ]
    },
    {
      "cell_type": "markdown",
      "metadata": {
        "id": "ZwTn_UpDX_iO"
      },
      "source": [
        "**Low-rank DCN.** To reduce the training and serving cost, we leverage low-rank techniques to approximate the DCN weight matrices. The rank is passed in through argument `projection_dim`; a smaller `projection_dim` results in a lower cost. Note that `projection_dim` needs to be smaller than (input size)/2 to reduce the cost. In practice, we've observed using low-rank DCN with rank (input size)/4 consistently preserved the accuracy of a full-rank DCN.\n",
        "\n",
        "<div>\n",
        "<center>\n",
        "<img src=\"http://drive.google.com/uc?export=view&id=1ZZfUTNdxjGAaAuwNrweKkLJ1PGxMmiCm\" width=\"400\"/>\n",
        "</center>\n",
        "</div>\n"
      ]
    },
    {
      "cell_type": "code",
      "execution_count": null,
      "metadata": {
        "id": "NYxbHI7ZNJX7",
        "colab": {
          "base_uri": "https://localhost:8080/"
        },
        "outputId": "93b6bfb9-2583-4406-e24f-36454029e529"
      },
      "outputs": [
        {
          "output_type": "stream",
          "name": "stdout",
          "text": [
            "Epoch 1/8\n",
            "10/10 [==============================] - 5s 231ms/step - RMSE: 2.1645 - loss: 4.3052 - regularization_loss: 0.0000e+00 - total_loss: 4.3052\n",
            "Epoch 2/8\n",
            "10/10 [==============================] - 0s 11ms/step - RMSE: 1.1254 - loss: 1.2330 - regularization_loss: 0.0000e+00 - total_loss: 1.2330\n",
            "Epoch 3/8\n",
            "10/10 [==============================] - 0s 13ms/step - RMSE: 0.9787 - loss: 0.9509 - regularization_loss: 0.0000e+00 - total_loss: 0.9509\n",
            "Epoch 4/8\n",
            "10/10 [==============================] - 0s 15ms/step - RMSE: 0.9373 - loss: 0.8793 - regularization_loss: 0.0000e+00 - total_loss: 0.8793\n",
            "Epoch 5/8\n",
            "10/10 [==============================] - 0s 12ms/step - RMSE: 0.9216 - loss: 0.8523 - regularization_loss: 0.0000e+00 - total_loss: 0.8523\n",
            "Epoch 6/8\n",
            "10/10 [==============================] - 0s 14ms/step - RMSE: 0.9135 - loss: 0.8371 - regularization_loss: 0.0000e+00 - total_loss: 0.8371\n",
            "Epoch 7/8\n",
            "10/10 [==============================] - 0s 14ms/step - RMSE: 0.9090 - loss: 0.8284 - regularization_loss: 0.0000e+00 - total_loss: 0.8284\n",
            "Epoch 8/8\n",
            "10/10 [==============================] - 0s 15ms/step - RMSE: 0.9046 - loss: 0.8200 - regularization_loss: 0.0000e+00 - total_loss: 0.8200\n",
            "5/5 [==============================] - 0s 8ms/step - RMSE: 0.9323 - loss: 0.8696 - regularization_loss: 0.0000e+00 - total_loss: 0.8696\n",
            "Epoch 1/8\n",
            "10/10 [==============================] - 5s 230ms/step - RMSE: 2.0848 - loss: 3.9774 - regularization_loss: 0.0000e+00 - total_loss: 3.9774\n",
            "Epoch 2/8\n",
            "10/10 [==============================] - 0s 11ms/step - RMSE: 1.0620 - loss: 1.1236 - regularization_loss: 0.0000e+00 - total_loss: 1.1236\n",
            "Epoch 3/8\n",
            "10/10 [==============================] - 0s 11ms/step - RMSE: 0.9484 - loss: 0.8972 - regularization_loss: 0.0000e+00 - total_loss: 0.8972\n",
            "Epoch 4/8\n",
            "10/10 [==============================] - 0s 11ms/step - RMSE: 0.9212 - loss: 0.8488 - regularization_loss: 0.0000e+00 - total_loss: 0.8488\n",
            "Epoch 5/8\n",
            "10/10 [==============================] - 0s 9ms/step - RMSE: 0.9116 - loss: 0.8328 - regularization_loss: 0.0000e+00 - total_loss: 0.8328\n",
            "Epoch 6/8\n",
            "10/10 [==============================] - 0s 10ms/step - RMSE: 0.9059 - loss: 0.8222 - regularization_loss: 0.0000e+00 - total_loss: 0.8222\n",
            "Epoch 7/8\n",
            "10/10 [==============================] - 0s 9ms/step - RMSE: 0.8989 - loss: 0.8088 - regularization_loss: 0.0000e+00 - total_loss: 0.8088\n",
            "Epoch 8/8\n",
            "10/10 [==============================] - 0s 10ms/step - RMSE: 0.8886 - loss: 0.7894 - regularization_loss: 0.0000e+00 - total_loss: 0.7894\n",
            "5/5 [==============================] - 0s 5ms/step - RMSE: 0.9369 - loss: 0.8786 - regularization_loss: 0.0000e+00 - total_loss: 0.8786\n",
            "Epoch 1/8\n",
            "10/10 [==============================] - 5s 233ms/step - RMSE: 2.2977 - loss: 5.0035 - regularization_loss: 0.0000e+00 - total_loss: 5.0035\n",
            "Epoch 2/8\n",
            "10/10 [==============================] - 0s 11ms/step - RMSE: 1.1836 - loss: 1.4028 - regularization_loss: 0.0000e+00 - total_loss: 1.4028\n",
            "Epoch 3/8\n",
            "10/10 [==============================] - 0s 11ms/step - RMSE: 0.9985 - loss: 1.0022 - regularization_loss: 0.0000e+00 - total_loss: 1.0022\n",
            "Epoch 4/8\n",
            "10/10 [==============================] - 0s 10ms/step - RMSE: 0.9526 - loss: 0.9053 - regularization_loss: 0.0000e+00 - total_loss: 0.9053\n",
            "Epoch 5/8\n",
            "10/10 [==============================] - 0s 11ms/step - RMSE: 0.9314 - loss: 0.8664 - regularization_loss: 0.0000e+00 - total_loss: 0.8664\n",
            "Epoch 6/8\n",
            "10/10 [==============================] - 0s 9ms/step - RMSE: 0.9189 - loss: 0.8447 - regularization_loss: 0.0000e+00 - total_loss: 0.8447\n",
            "Epoch 7/8\n",
            "10/10 [==============================] - 0s 10ms/step - RMSE: 0.9115 - loss: 0.8319 - regularization_loss: 0.0000e+00 - total_loss: 0.8319\n",
            "Epoch 8/8\n",
            "10/10 [==============================] - 0s 10ms/step - RMSE: 0.9054 - loss: 0.8209 - regularization_loss: 0.0000e+00 - total_loss: 0.8209\n",
            "5/5 [==============================] - 0s 5ms/step - RMSE: 0.9326 - loss: 0.8708 - regularization_loss: 0.0000e+00 - total_loss: 0.8708\n",
            "Epoch 1/8\n",
            "10/10 [==============================] - 6s 255ms/step - RMSE: 2.1634 - loss: 4.3040 - regularization_loss: 0.0000e+00 - total_loss: 4.3040\n",
            "Epoch 2/8\n",
            "10/10 [==============================] - 0s 11ms/step - RMSE: 1.1203 - loss: 1.2231 - regularization_loss: 0.0000e+00 - total_loss: 1.2231\n",
            "Epoch 3/8\n",
            "10/10 [==============================] - 0s 11ms/step - RMSE: 0.9786 - loss: 0.9538 - regularization_loss: 0.0000e+00 - total_loss: 0.9538\n",
            "Epoch 4/8\n",
            "10/10 [==============================] - 0s 9ms/step - RMSE: 0.9372 - loss: 0.8809 - regularization_loss: 0.0000e+00 - total_loss: 0.8809\n",
            "Epoch 5/8\n",
            "10/10 [==============================] - 0s 9ms/step - RMSE: 0.9224 - loss: 0.8543 - regularization_loss: 0.0000e+00 - total_loss: 0.8543\n",
            "Epoch 6/8\n",
            "10/10 [==============================] - 0s 9ms/step - RMSE: 0.9148 - loss: 0.8398 - regularization_loss: 0.0000e+00 - total_loss: 0.8398\n",
            "Epoch 7/8\n",
            "10/10 [==============================] - 0s 10ms/step - RMSE: 0.9101 - loss: 0.8307 - regularization_loss: 0.0000e+00 - total_loss: 0.8307\n",
            "Epoch 8/8\n",
            "10/10 [==============================] - 0s 9ms/step - RMSE: 0.9052 - loss: 0.8210 - regularization_loss: 0.0000e+00 - total_loss: 0.8210\n",
            "5/5 [==============================] - 0s 5ms/step - RMSE: 0.9316 - loss: 0.8690 - regularization_loss: 0.0000e+00 - total_loss: 0.8690\n",
            "Epoch 1/8\n",
            "10/10 [==============================] - 4s 228ms/step - RMSE: 2.0692 - loss: 3.9240 - regularization_loss: 0.0000e+00 - total_loss: 3.9240\n",
            "Epoch 2/8\n",
            "10/10 [==============================] - 0s 11ms/step - RMSE: 1.0500 - loss: 1.0962 - regularization_loss: 0.0000e+00 - total_loss: 1.0962\n",
            "Epoch 3/8\n",
            "10/10 [==============================] - 0s 11ms/step - RMSE: 0.9439 - loss: 0.8874 - regularization_loss: 0.0000e+00 - total_loss: 0.8874\n",
            "Epoch 4/8\n",
            "10/10 [==============================] - 0s 10ms/step - RMSE: 0.9210 - loss: 0.8485 - regularization_loss: 0.0000e+00 - total_loss: 0.8485\n",
            "Epoch 5/8\n",
            "10/10 [==============================] - 0s 10ms/step - RMSE: 0.9120 - loss: 0.8337 - regularization_loss: 0.0000e+00 - total_loss: 0.8337\n",
            "Epoch 6/8\n",
            "10/10 [==============================] - 0s 10ms/step - RMSE: 0.9052 - loss: 0.8208 - regularization_loss: 0.0000e+00 - total_loss: 0.8208\n",
            "Epoch 7/8\n",
            "10/10 [==============================] - 0s 10ms/step - RMSE: 0.8967 - loss: 0.8050 - regularization_loss: 0.0000e+00 - total_loss: 0.8050\n",
            "Epoch 8/8\n",
            "10/10 [==============================] - 0s 11ms/step - RMSE: 0.8856 - loss: 0.7844 - regularization_loss: 0.0000e+00 - total_loss: 0.7844\n",
            "5/5 [==============================] - 0s 6ms/step - RMSE: 0.9308 - loss: 0.8685 - regularization_loss: 0.0000e+00 - total_loss: 0.8685\n"
          ]
        }
      ],
      "source": [
        "dcn_lr_result = run_models(use_cross_layer=True,\n",
        "                           projection_dim=20,\n",
        "                           deep_layer_sizes=[192, 192])"
      ]
    },
    {
      "cell_type": "markdown",
      "metadata": {
        "id": "5O5AoNOdaQ80"
      },
      "source": [
        "**DNN.** We train a same-sized DNN model as a reference."
      ]
    },
    {
      "cell_type": "code",
      "execution_count": null,
      "metadata": {
        "id": "iBPpwD4cGtXF",
        "colab": {
          "base_uri": "https://localhost:8080/"
        },
        "outputId": "d0821cf8-4ccc-4f9c-be83-9d7ad72498bc"
      },
      "outputs": [
        {
          "output_type": "stream",
          "name": "stdout",
          "text": [
            "Epoch 1/8\n",
            "10/10 [==============================] - 6s 359ms/step - RMSE: 2.0422 - loss: 3.8356 - regularization_loss: 0.0000e+00 - total_loss: 3.8356\n",
            "Epoch 2/8\n",
            "10/10 [==============================] - 0s 11ms/step - RMSE: 1.0913 - loss: 1.1788 - regularization_loss: 0.0000e+00 - total_loss: 1.1788\n",
            "Epoch 3/8\n",
            "10/10 [==============================] - 0s 11ms/step - RMSE: 0.9649 - loss: 0.9272 - regularization_loss: 0.0000e+00 - total_loss: 0.9272\n",
            "Epoch 4/8\n",
            "10/10 [==============================] - 0s 10ms/step - RMSE: 0.9298 - loss: 0.8650 - regularization_loss: 0.0000e+00 - total_loss: 0.8650\n",
            "Epoch 5/8\n",
            "10/10 [==============================] - 0s 9ms/step - RMSE: 0.9116 - loss: 0.8325 - regularization_loss: 0.0000e+00 - total_loss: 0.8325\n",
            "Epoch 6/8\n",
            "10/10 [==============================] - 0s 10ms/step - RMSE: 0.9050 - loss: 0.8198 - regularization_loss: 0.0000e+00 - total_loss: 0.8198\n",
            "Epoch 7/8\n",
            "10/10 [==============================] - 0s 9ms/step - RMSE: 0.8980 - loss: 0.8075 - regularization_loss: 0.0000e+00 - total_loss: 0.8075\n",
            "Epoch 8/8\n",
            "10/10 [==============================] - 0s 10ms/step - RMSE: 0.8911 - loss: 0.7944 - regularization_loss: 0.0000e+00 - total_loss: 0.7944\n",
            "5/5 [==============================] - 0s 5ms/step - RMSE: 0.9310 - loss: 0.8672 - regularization_loss: 0.0000e+00 - total_loss: 0.8672\n",
            "Epoch 1/8\n",
            "10/10 [==============================] - 4s 229ms/step - RMSE: 1.8939 - loss: 3.3399 - regularization_loss: 0.0000e+00 - total_loss: 3.3399\n",
            "Epoch 2/8\n",
            "10/10 [==============================] - 0s 11ms/step - RMSE: 1.0520 - loss: 1.0883 - regularization_loss: 0.0000e+00 - total_loss: 1.0883\n",
            "Epoch 3/8\n",
            "10/10 [==============================] - 0s 10ms/step - RMSE: 0.9614 - loss: 0.9178 - regularization_loss: 0.0000e+00 - total_loss: 0.9178\n",
            "Epoch 4/8\n",
            "10/10 [==============================] - 0s 9ms/step - RMSE: 0.9209 - loss: 0.8485 - regularization_loss: 0.0000e+00 - total_loss: 0.8485\n",
            "Epoch 5/8\n",
            "10/10 [==============================] - 0s 10ms/step - RMSE: 0.9018 - loss: 0.8135 - regularization_loss: 0.0000e+00 - total_loss: 0.8135\n",
            "Epoch 6/8\n",
            "10/10 [==============================] - 0s 9ms/step - RMSE: 0.8845 - loss: 0.7814 - regularization_loss: 0.0000e+00 - total_loss: 0.7814\n",
            "Epoch 7/8\n",
            "10/10 [==============================] - 0s 10ms/step - RMSE: 0.8678 - loss: 0.7501 - regularization_loss: 0.0000e+00 - total_loss: 0.7501\n",
            "Epoch 8/8\n",
            "10/10 [==============================] - 0s 9ms/step - RMSE: 0.8476 - loss: 0.7137 - regularization_loss: 0.0000e+00 - total_loss: 0.7137\n",
            "5/5 [==============================] - 0s 5ms/step - RMSE: 0.9419 - loss: 0.8885 - regularization_loss: 0.0000e+00 - total_loss: 0.8885\n",
            "Epoch 1/8\n",
            "10/10 [==============================] - 5s 296ms/step - RMSE: 1.9087 - loss: 3.3841 - regularization_loss: 0.0000e+00 - total_loss: 3.3841\n",
            "Epoch 2/8\n",
            "10/10 [==============================] - 0s 11ms/step - RMSE: 1.0501 - loss: 1.0867 - regularization_loss: 0.0000e+00 - total_loss: 1.0867\n",
            "Epoch 3/8\n",
            "10/10 [==============================] - 0s 11ms/step - RMSE: 0.9496 - loss: 0.9012 - regularization_loss: 0.0000e+00 - total_loss: 0.9012\n",
            "Epoch 4/8\n",
            "10/10 [==============================] - 0s 11ms/step - RMSE: 0.9164 - loss: 0.8399 - regularization_loss: 0.0000e+00 - total_loss: 0.8399\n",
            "Epoch 5/8\n",
            "10/10 [==============================] - 0s 10ms/step - RMSE: 0.9032 - loss: 0.8159 - regularization_loss: 0.0000e+00 - total_loss: 0.8159\n",
            "Epoch 6/8\n",
            "10/10 [==============================] - 0s 9ms/step - RMSE: 0.8903 - loss: 0.7924 - regularization_loss: 0.0000e+00 - total_loss: 0.7924\n",
            "Epoch 7/8\n",
            "10/10 [==============================] - 0s 10ms/step - RMSE: 0.8748 - loss: 0.7634 - regularization_loss: 0.0000e+00 - total_loss: 0.7634\n",
            "Epoch 8/8\n",
            "10/10 [==============================] - 0s 10ms/step - RMSE: 0.8541 - loss: 0.7261 - regularization_loss: 0.0000e+00 - total_loss: 0.7261\n",
            "5/5 [==============================] - 0s 5ms/step - RMSE: 0.9385 - loss: 0.8809 - regularization_loss: 0.0000e+00 - total_loss: 0.8809\n",
            "Epoch 1/8\n",
            "10/10 [==============================] - 4s 230ms/step - RMSE: 3.1879 - loss: 10.1291 - regularization_loss: 0.0000e+00 - total_loss: 10.1291\n",
            "Epoch 2/8\n",
            "10/10 [==============================] - 0s 11ms/step - RMSE: 1.9855 - loss: 3.7397 - regularization_loss: 0.0000e+00 - total_loss: 3.7397\n",
            "Epoch 3/8\n",
            "10/10 [==============================] - 0s 11ms/step - RMSE: 1.1323 - loss: 1.2676 - regularization_loss: 0.0000e+00 - total_loss: 1.2676\n",
            "Epoch 4/8\n",
            "10/10 [==============================] - 0s 11ms/step - RMSE: 1.0076 - loss: 1.0040 - regularization_loss: 0.0000e+00 - total_loss: 1.0040\n",
            "Epoch 5/8\n",
            "10/10 [==============================] - 0s 10ms/step - RMSE: 0.9552 - loss: 0.9087 - regularization_loss: 0.0000e+00 - total_loss: 0.9087\n",
            "Epoch 6/8\n",
            "10/10 [==============================] - 0s 10ms/step - RMSE: 0.9305 - loss: 0.8658 - regularization_loss: 0.0000e+00 - total_loss: 0.8658\n",
            "Epoch 7/8\n",
            "10/10 [==============================] - 0s 10ms/step - RMSE: 0.9203 - loss: 0.8479 - regularization_loss: 0.0000e+00 - total_loss: 0.8479\n",
            "Epoch 8/8\n",
            "10/10 [==============================] - 0s 9ms/step - RMSE: 0.9160 - loss: 0.8405 - regularization_loss: 0.0000e+00 - total_loss: 0.8405\n",
            "5/5 [==============================] - 0s 5ms/step - RMSE: 0.9370 - loss: 0.8787 - regularization_loss: 0.0000e+00 - total_loss: 0.8787\n",
            "Epoch 1/8\n",
            "10/10 [==============================] - 5s 279ms/step - RMSE: 3.6489 - loss: 13.0570 - regularization_loss: 0.0000e+00 - total_loss: 13.0570\n",
            "Epoch 2/8\n",
            "10/10 [==============================] - 0s 15ms/step - RMSE: 2.3272 - loss: 4.9720 - regularization_loss: 0.0000e+00 - total_loss: 4.9720\n",
            "Epoch 3/8\n",
            "10/10 [==============================] - 0s 15ms/step - RMSE: 1.3033 - loss: 1.6217 - regularization_loss: 0.0000e+00 - total_loss: 1.6217\n",
            "Epoch 4/8\n",
            "10/10 [==============================] - 0s 15ms/step - RMSE: 1.0600 - loss: 1.1132 - regularization_loss: 0.0000e+00 - total_loss: 1.1132\n",
            "Epoch 5/8\n",
            "10/10 [==============================] - 0s 15ms/step - RMSE: 0.9696 - loss: 0.9433 - regularization_loss: 0.0000e+00 - total_loss: 0.9433\n",
            "Epoch 6/8\n",
            "10/10 [==============================] - 0s 14ms/step - RMSE: 0.9374 - loss: 0.8777 - regularization_loss: 0.0000e+00 - total_loss: 0.8777\n",
            "Epoch 7/8\n",
            "10/10 [==============================] - 0s 15ms/step - RMSE: 0.9190 - loss: 0.8457 - regularization_loss: 0.0000e+00 - total_loss: 0.8457\n",
            "Epoch 8/8\n",
            "10/10 [==============================] - 0s 15ms/step - RMSE: 0.9158 - loss: 0.8404 - regularization_loss: 0.0000e+00 - total_loss: 0.8404\n",
            "5/5 [==============================] - 0s 6ms/step - RMSE: 0.9392 - loss: 0.8827 - regularization_loss: 0.0000e+00 - total_loss: 0.8827\n"
          ]
        }
      ],
      "source": [
        "dnn_result = run_models(use_cross_layer=False,\n",
        "                        deep_layer_sizes=[192, 192, 192])"
      ]
    },
    {
      "cell_type": "markdown",
      "metadata": {
        "id": "cBY0ljpl3_k5"
      },
      "source": [
        "We evaluate the model on test data and report the mean and standard deviation out of 5 runs."
      ]
    },
    {
      "cell_type": "code",
      "execution_count": null,
      "metadata": {
        "id": "a1yj3pp0glEL",
        "colab": {
          "base_uri": "https://localhost:8080/"
        },
        "outputId": "dbf9fc32-4427-4183-cc8e-20dce193edc3"
      },
      "outputs": [
        {
          "output_type": "stream",
          "name": "stdout",
          "text": [
            "DCN            RMSE mean: 0.9311, stdv: 0.0027\n",
            "DCN (low-rank) RMSE mean: 0.9328, stdv: 0.0021\n",
            "DNN            RMSE mean: 0.9375, stdv: 0.0036\n"
          ]
        }
      ],
      "source": [
        "print(\"DCN            RMSE mean: {:.4f}, stdv: {:.4f}\".format(\n",
        "    dcn_result[\"mean\"], dcn_result[\"stdv\"]))\n",
        "print(\"DCN (low-rank) RMSE mean: {:.4f}, stdv: {:.4f}\".format(\n",
        "    dcn_lr_result[\"mean\"], dcn_lr_result[\"stdv\"]))\n",
        "print(\"DNN            RMSE mean: {:.4f}, stdv: {:.4f}\".format(\n",
        "    dnn_result[\"mean\"], dnn_result[\"stdv\"]))\n"
      ]
    },
    {
      "cell_type": "markdown",
      "metadata": {
        "id": "K076UbT1nnq3"
      },
      "source": [
        "We see that DCN achieved better performance than a same-sized DNN with ReLU layers. Moreover, the low-rank DCN was able to reduce parameters while maintaining the accuracy."
      ]
    },
    {
      "cell_type": "markdown",
      "metadata": {
        "id": "eSF0gNLGX1Za"
      },
      "source": [
        "**More on DCN.** Besides what've been demonstrated above, there are more creative yet practically useful ways to utilize DCN\n",
        "\n",
        "*   *DCN with a parallel structure*.  The inputs are fed in parallel to a cross network and a deep network.\n",
        "\n",
        "*   *Concatenating cross layers.* The inputs are fed in parallel to multiple cross layers to capture complementary feature crosses.\n",
        "\n",
        "<div class=\"fig figcenter fighighlight\">\n",
        "<center>\n",
        "  <img src=\"http://drive.google.com/uc?export=view&id=11RpNuj9s0OgSav9TUuGA7v7PuFLL6nVR\" hspace=40 width=\"600\" style=\"display:block;\">\n",
        "  <div class=\"figcaption\">\n",
        "  <b>Left</b>: DCN with a parallel structure; <b>Right</b>: Concatenating cross layers.\n",
        "  </div>\n",
        "  </center>\n",
        "</div>"
      ]
    },
    {
      "cell_type": "markdown",
      "metadata": {
        "id": "GEi9PtCEdyma"
      },
      "source": [
        "### Model understanding\n",
        "\n",
        "The weight matrix $W$ in DCN reveals what feature crosses the model has learned to be important. Recall that in the previous toy example, the importance of interactions between the $i$-th and $j$-th features is captured by the ($i, j$)-th element of $W$.\n",
        "\n",
        "What's a bit different here is that the feature embeddings are of size 32 instead of size 1. Hence, the importance will be characterized by the $(i, j)$-th block\n",
        "$W_{i,j}$ which is of dimension 32 by 32.\n",
        "In the following, we visualize the Frobenius norm $||W_{i,j}||_F$ of each block, and a larger norm would suggest higher importance (assuming the features' embeddings are of similar scales).\n",
        "\n",
        "Besides block norm, we could also visualize the entire matrix, or the mean/median/max value of each block."
      ]
    },
    {
      "cell_type": "code",
      "execution_count": null,
      "metadata": {
        "id": "47ibaEBJxOoe",
        "colab": {
          "base_uri": "https://localhost:8080/"
        },
        "outputId": "46d17e96-635d-40cd-d01f-7b8f025d4e40"
      },
      "outputs": [
        {
          "output_type": "stream",
          "name": "stderr",
          "text": [
            "<ipython-input-24-91eb7b6dc415>:23: UserWarning: FixedFormatter should only be used together with FixedLocator\n",
            "  _ = ax.set_xticklabels([\"\"] + features, rotation=45, ha=\"left\", fontsize=10)\n",
            "<ipython-input-24-91eb7b6dc415>:24: UserWarning: FixedFormatter should only be used together with FixedLocator\n",
            "  _ = ax.set_yticklabels([\"\"] + features, fontsize=10)\n"
          ]
        },
        {
          "output_type": "display_data",
          "data": {
            "text/plain": [
              "<Figure size 1000x1000 with 0 Axes>"
            ]
          },
          "metadata": {}
        },
        {
          "output_type": "display_data",
          "data": {
            "text/plain": [
              "<Figure size 480x480 with 2 Axes>"
            ],
            "image/png": "[encoded data removed]"
          },
          "metadata": {}
        }
      ],
      "source": [
        "model = dcn_result[\"model\"][0]\n",
        "mat = model._cross_layer._dense.kernel\n",
        "features = model._all_features\n",
        "\n",
        "block_norm = np.ones([len(features), len(features)])\n",
        "\n",
        "dim = model.embedding_dimension\n",
        "\n",
        "# Compute the norms of the blocks.\n",
        "for i in range(len(features)):\n",
        "  for j in range(len(features)):\n",
        "    block = mat[i * dim:(i + 1) * dim,\n",
        "                j * dim:(j + 1) * dim]\n",
        "    block_norm[i,j] = np.linalg.norm(block, ord=\"fro\")\n",
        "\n",
        "plt.figure(figsize=(10,10))\n",
        "im = plt.matshow(block_norm, cmap=plt.cm.Blues)\n",
        "ax = plt.gca()\n",
        "divider = make_axes_locatable(plt.gca())\n",
        "cax = divider.append_axes(\"right\", size=\"5%\", pad=0.05)\n",
        "plt.colorbar(im, cax=cax)\n",
        "cax.tick_params(labelsize=10)\n",
        "_ = ax.set_xticklabels([\"\"] + features, rotation=45, ha=\"left\", fontsize=10)\n",
        "_ = ax.set_yticklabels([\"\"] + features, fontsize=10)"
      ]
    }
  ],
  "metadata": {
    "colab": {
      "provenance": [],
      "gpuType": "T4"
    },
    "kernelspec": {
      "display_name": "Python 3",
      "name": "python3"
    },
    "accelerator": "GPU",
    "widgets": {
      "application/vnd.jupyter.widget-state+json": {
        "452e35fe01d346768d5f44a9b40c728e": {
          "model_module": "@jupyter-widgets/controls",
          "model_name": "HBoxModel",
          "model_module_version": "1.5.0",
          "state": {
            "_dom_classes": [],
            "_model_module": "@jupyter-widgets/controls",
            "_model_module_version": "1.5.0",
            "_model_name": "HBoxModel",
            "_view_count": null,
            "_view_module": "@jupyter-widgets/controls",
            "_view_module_version": "1.5.0",
            "_view_name": "HBoxView",
            "box_style": "",
            "children": [
              "IPY_MODEL_edd9d265631f46199e6970a0922e223e",
              "IPY_MODEL_2b9a2be96d8c49f89385551e364f6735",
              "IPY_MODEL_f5142ca5181141bb805ed4f3baea03da"
            ],
            "layout": "IPY_MODEL_99dd49ec3c2341aa9b043a0158e1f752"
          }
        },
        "edd9d265631f46199e6970a0922e223e": {
          "model_module": "@jupyter-widgets/controls",
          "model_name": "HTMLModel",
          "model_module_version": "1.5.0",
          "state": {
            "_dom_classes": [],
            "_model_module": "@jupyter-widgets/controls",
            "_model_module_version": "1.5.0",
            "_model_name": "HTMLModel",
            "_view_count": null,
            "_view_module": "@jupyter-widgets/controls",
            "_view_module_version": "1.5.0",
            "_view_name": "HTMLView",
            "description": "",
            "description_tooltip": null,
            "layout": "IPY_MODEL_26ca0b352b1f4b248ba3ab230bcf4a23",
            "placeholder": "​",
            "style": "IPY_MODEL_3a02e1e3fae345858ea4bfa8a1366ba4",
            "value": "Dl Completed...: 100%"
          }
        },
        "2b9a2be96d8c49f89385551e364f6735": {
          "model_module": "@jupyter-widgets/controls",
          "model_name": "FloatProgressModel",
          "model_module_version": "1.5.0",
          "state": {
            "_dom_classes": [],
            "_model_module": "@jupyter-widgets/controls",
            "_model_module_version": "1.5.0",
            "_model_name": "FloatProgressModel",
            "_view_count": null,
            "_view_module": "@jupyter-widgets/controls",
            "_view_module_version": "1.5.0",
            "_view_name": "ProgressView",
            "bar_style": "success",
            "description": "",
            "description_tooltip": null,
            "layout": "IPY_MODEL_3e78e23ca2d74d3abf34ce7b8662083c",
            "max": 1,
            "min": 0,
            "orientation": "horizontal",
            "style": "IPY_MODEL_a4e4183e80ad435fa270115b078cd7a1",
            "value": 1
          }
        },
        "f5142ca5181141bb805ed4f3baea03da": {
          "model_module": "@jupyter-widgets/controls",
          "model_name": "HTMLModel",
          "model_module_version": "1.5.0",
          "state": {
            "_dom_classes": [],
            "_model_module": "@jupyter-widgets/controls",
            "_model_module_version": "1.5.0",
            "_model_name": "HTMLModel",
            "_view_count": null,
            "_view_module": "@jupyter-widgets/controls",
            "_view_module_version": "1.5.0",
            "_view_name": "HTMLView",
            "description": "",
            "description_tooltip": null,
            "layout": "IPY_MODEL_62e71ac9a7a24e20a67ad8cd98dce461",
            "placeholder": "​",
            "style": "IPY_MODEL_f47816509c8a4a6d87edb77c563e4493",
            "value": " 1/1 [00:03&lt;00:00,  3.10s/ url]"
          }
        },
        "99dd49ec3c2341aa9b043a0158e1f752": {
          "model_module": "@jupyter-widgets/base",
          "model_name": "LayoutModel",
          "model_module_version": "1.2.0",
          "state": {
            "_model_module": "@jupyter-widgets/base",
            "_model_module_version": "1.2.0",
            "_model_name": "LayoutModel",
            "_view_count": null,
            "_view_module": "@jupyter-widgets/base",
            "_view_module_version": "1.2.0",
            "_view_name": "LayoutView",
            "align_content": null,
            "align_items": null,
            "align_self": null,
            "border": null,
            "bottom": null,
            "display": null,
            "flex": null,
            "flex_flow": null,
            "grid_area": null,
            "grid_auto_columns": null,
            "grid_auto_flow": null,
            "grid_auto_rows": null,
            "grid_column": null,
            "grid_gap": null,
            "grid_row": null,
            "grid_template_areas": null,
            "grid_template_columns": null,
            "grid_template_rows": null,
            "height": null,
            "justify_content": null,
            "justify_items": null,
            "left": null,
            "margin": null,
            "max_height": null,
            "max_width": null,
            "min_height": null,
            "min_width": null,
            "object_fit": null,
            "object_position": null,
            "order": null,
            "overflow": null,
            "overflow_x": null,
            "overflow_y": null,
            "padding": null,
            "right": null,
            "top": null,
            "visibility": null,
            "width": null
          }
        },
        "26ca0b352b1f4b248ba3ab230bcf4a23": {
          "model_module": "@jupyter-widgets/base",
          "model_name": "LayoutModel",
          "model_module_version": "1.2.0",
          "state": {
            "_model_module": "@jupyter-widgets/base",
            "_model_module_version": "1.2.0",
            "_model_name": "LayoutModel",
            "_view_count": null,
            "_view_module": "@jupyter-widgets/base",
            "_view_module_version": "1.2.0",
            "_view_name": "LayoutView",
            "align_content": null,
            "align_items": null,
            "align_self": null,
            "border": null,
            "bottom": null,
            "display": null,
            "flex": null,
            "flex_flow": null,
            "grid_area": null,
            "grid_auto_columns": null,
            "grid_auto_flow": null,
            "grid_auto_rows": null,
            "grid_column": null,
            "grid_gap": null,
            "grid_row": null,
            "grid_template_areas": null,
            "grid_template_columns": null,
            "grid_template_rows": null,
            "height": null,
            "justify_content": null,
            "justify_items": null,
            "left": null,
            "margin": null,
            "max_height": null,
            "max_width": null,
            "min_height": null,
            "min_width": null,
            "object_fit": null,
            "object_position": null,
            "order": null,
            "overflow": null,
            "overflow_x": null,
            "overflow_y": null,
            "padding": null,
            "right": null,
            "top": null,
            "visibility": null,
            "width": null
          }
        },
        "3a02e1e3fae345858ea4bfa8a1366ba4": {
          "model_module": "@jupyter-widgets/controls",
          "model_name": "DescriptionStyleModel",
          "model_module_version": "1.5.0",
          "state": {
            "_model_module": "@jupyter-widgets/controls",
            "_model_module_version": "1.5.0",
            "_model_name": "DescriptionStyleModel",
            "_view_count": null,
            "_view_module": "@jupyter-widgets/base",
            "_view_module_version": "1.2.0",
            "_view_name": "StyleView",
            "description_width": ""
          }
        },
        "3e78e23ca2d74d3abf34ce7b8662083c": {
          "model_module": "@jupyter-widgets/base",
          "model_name": "LayoutModel",
          "model_module_version": "1.2.0",
          "state": {
            "_model_module": "@jupyter-widgets/base",
            "_model_module_version": "1.2.0",
            "_model_name": "LayoutModel",
            "_view_count": null,
            "_view_module": "@jupyter-widgets/base",
            "_view_module_version": "1.2.0",
            "_view_name": "LayoutView",
            "align_content": null,
            "align_items": null,
            "align_self": null,
            "border": null,
            "bottom": null,
            "display": null,
            "flex": null,
            "flex_flow": null,
            "grid_area": null,
            "grid_auto_columns": null,
            "grid_auto_flow": null,
            "grid_auto_rows": null,
            "grid_column": null,
            "grid_gap": null,
            "grid_row": null,
            "grid_template_areas": null,
            "grid_template_columns": null,
            "grid_template_rows": null,
            "height": null,
            "justify_content": null,
            "justify_items": null,
            "left": null,
            "margin": null,
            "max_height": null,
            "max_width": null,
            "min_height": null,
            "min_width": null,
            "object_fit": null,
            "object_position": null,
            "order": null,
            "overflow": null,
            "overflow_x": null,
            "overflow_y": null,
            "padding": null,
            "right": null,
            "top": null,
            "visibility": null,
            "width": "20px"
          }
        },
        "a4e4183e80ad435fa270115b078cd7a1": {
          "model_module": "@jupyter-widgets/controls",
          "model_name": "ProgressStyleModel",
          "model_module_version": "1.5.0",
          "state": {
            "_model_module": "@jupyter-widgets/controls",
            "_model_module_version": "1.5.0",
            "_model_name": "ProgressStyleModel",
            "_view_count": null,
            "_view_module": "@jupyter-widgets/base",
            "_view_module_version": "1.2.0",
            "_view_name": "StyleView",
            "bar_color": null,
            "description_width": ""
          }
        },
        "62e71ac9a7a24e20a67ad8cd98dce461": {
          "model_module": "@jupyter-widgets/base",
          "model_name": "LayoutModel",
          "model_module_version": "1.2.0",
          "state": {
            "_model_module": "@jupyter-widgets/base",
            "_model_module_version": "1.2.0",
            "_model_name": "LayoutModel",
            "_view_count": null,
            "_view_module": "@jupyter-widgets/base",
            "_view_module_version": "1.2.0",
            "_view_name": "LayoutView",
            "align_content": null,
            "align_items": null,
            "align_self": null,
            "border": null,
            "bottom": null,
            "display": null,
            "flex": null,
            "flex_flow": null,
            "grid_area": null,
            "grid_auto_columns": null,
            "grid_auto_flow": null,
            "grid_auto_rows": null,
            "grid_column": null,
            "grid_gap": null,
            "grid_row": null,
            "grid_template_areas": null,
            "grid_template_columns": null,
            "grid_template_rows": null,
            "height": null,
            "justify_content": null,
            "justify_items": null,
            "left": null,
            "margin": null,
            "max_height": null,
            "max_width": null,
            "min_height": null,
            "min_width": null,
            "object_fit": null,
            "object_position": null,
            "order": null,
            "overflow": null,
            "overflow_x": null,
            "overflow_y": null,
            "padding": null,
            "right": null,
            "top": null,
            "visibility": null,
            "width": null
          }
        },
        "f47816509c8a4a6d87edb77c563e4493": {
          "model_module": "@jupyter-widgets/controls",
          "model_name": "DescriptionStyleModel",
          "model_module_version": "1.5.0",
          "state": {
            "_model_module": "@jupyter-widgets/controls",
            "_model_module_version": "1.5.0",
            "_model_name": "DescriptionStyleModel",
            "_view_count": null,
            "_view_module": "@jupyter-widgets/base",
            "_view_module_version": "1.2.0",
            "_view_name": "StyleView",
            "description_width": ""
          }
        },
        "7588dd3fbddf4d8b91e54e6264f1cfd9": {
          "model_module": "@jupyter-widgets/controls",
          "model_name": "HBoxModel",
          "model_module_version": "1.5.0",
          "state": {
            "_dom_classes": [],
            "_model_module": "@jupyter-widgets/controls",
            "_model_module_version": "1.5.0",
            "_model_name": "HBoxModel",
            "_view_count": null,
            "_view_module": "@jupyter-widgets/controls",
            "_view_module_version": "1.5.0",
            "_view_name": "HBoxView",
            "box_style": "",
            "children": [
              "IPY_MODEL_4af6cbe835aa45f4a4c9678841af4a96",
              "IPY_MODEL_33e19f32022643c4b5b52f8ab1f9b271",
              "IPY_MODEL_bb258e4b220141c29162fbfa5e2fdceb"
            ],
            "layout": "IPY_MODEL_b913cf3765a24c13bd3ed72f96477c16"
          }
        },
        "4af6cbe835aa45f4a4c9678841af4a96": {
          "model_module": "@jupyter-widgets/controls",
          "model_name": "HTMLModel",
          "model_module_version": "1.5.0",
          "state": {
            "_dom_classes": [],
            "_model_module": "@jupyter-widgets/controls",
            "_model_module_version": "1.5.0",
            "_model_name": "HTMLModel",
            "_view_count": null,
            "_view_module": "@jupyter-widgets/controls",
            "_view_module_version": "1.5.0",
            "_view_name": "HTMLView",
            "description": "",
            "description_tooltip": null,
            "layout": "IPY_MODEL_3714ae5b4e1944cf9307ba7f307f4736",
            "placeholder": "​",
            "style": "IPY_MODEL_bebb8ec627614438be9b4960e4a6539e",
            "value": "Dl Size...: 100%"
          }
        },
        "33e19f32022643c4b5b52f8ab1f9b271": {
          "model_module": "@jupyter-widgets/controls",
          "model_name": "FloatProgressModel",
          "model_module_version": "1.5.0",
          "state": {
            "_dom_classes": [],
            "_model_module": "@jupyter-widgets/controls",
            "_model_module_version": "1.5.0",
            "_model_name": "FloatProgressModel",
            "_view_count": null,
            "_view_module": "@jupyter-widgets/controls",
            "_view_module_version": "1.5.0",
            "_view_name": "ProgressView",
            "bar_style": "success",
            "description": "",
            "description_tooltip": null,
            "layout": "IPY_MODEL_7b3655426ef246819f89d63fd8c90045",
            "max": 1,
            "min": 0,
            "orientation": "horizontal",
            "style": "IPY_MODEL_559c3c12a899484db1835fc94ab04940",
            "value": 1
          }
        },
        "bb258e4b220141c29162fbfa5e2fdceb": {
          "model_module": "@jupyter-widgets/controls",
          "model_name": "HTMLModel",
          "model_module_version": "1.5.0",
          "state": {
            "_dom_classes": [],
            "_model_module": "@jupyter-widgets/controls",
            "_model_module_version": "1.5.0",
            "_model_name": "HTMLModel",
            "_view_count": null,
            "_view_module": "@jupyter-widgets/controls",
            "_view_module_version": "1.5.0",
            "_view_name": "HTMLView",
            "description": "",
            "description_tooltip": null,
            "layout": "IPY_MODEL_b7e0c14cb2c545c5b202a11235a4aa2d",
            "placeholder": "​",
            "style": "IPY_MODEL_cef1df1755104c1eb388dbb90ce39703",
            "value": " 4/4 [00:03&lt;00:00,  1.41 MiB/s]"
          }
        },
        "b913cf3765a24c13bd3ed72f96477c16": {
          "model_module": "@jupyter-widgets/base",
          "model_name": "LayoutModel",
          "model_module_version": "1.2.0",
          "state": {
            "_model_module": "@jupyter-widgets/base",
            "_model_module_version": "1.2.0",
            "_model_name": "LayoutModel",
            "_view_count": null,
            "_view_module": "@jupyter-widgets/base",
            "_view_module_version": "1.2.0",
            "_view_name": "LayoutView",
            "align_content": null,
            "align_items": null,
            "align_self": null,
            "border": null,
            "bottom": null,
            "display": null,
            "flex": null,
            "flex_flow": null,
            "grid_area": null,
            "grid_auto_columns": null,
            "grid_auto_flow": null,
            "grid_auto_rows": null,
            "grid_column": null,
            "grid_gap": null,
            "grid_row": null,
            "grid_template_areas": null,
            "grid_template_columns": null,
            "grid_template_rows": null,
            "height": null,
            "justify_content": null,
            "justify_items": null,
            "left": null,
            "margin": null,
            "max_height": null,
            "max_width": null,
            "min_height": null,
            "min_width": null,
            "object_fit": null,
            "object_position": null,
            "order": null,
            "overflow": null,
            "overflow_x": null,
            "overflow_y": null,
            "padding": null,
            "right": null,
            "top": null,
            "visibility": null,
            "width": null
          }
        },
        "3714ae5b4e1944cf9307ba7f307f4736": {
          "model_module": "@jupyter-widgets/base",
          "model_name": "LayoutModel",
          "model_module_version": "1.2.0",
          "state": {
            "_model_module": "@jupyter-widgets/base",
            "_model_module_version": "1.2.0",
            "_model_name": "LayoutModel",
            "_view_count": null,
            "_view_module": "@jupyter-widgets/base",
            "_view_module_version": "1.2.0",
            "_view_name": "LayoutView",
            "align_content": null,
            "align_items": null,
            "align_self": null,
            "border": null,
            "bottom": null,
            "display": null,
            "flex": null,
            "flex_flow": null,
            "grid_area": null,
            "grid_auto_columns": null,
            "grid_auto_flow": null,
            "grid_auto_rows": null,
            "grid_column": null,
            "grid_gap": null,
            "grid_row": null,
            "grid_template_areas": null,
            "grid_template_columns": null,
            "grid_template_rows": null,
            "height": null,
            "justify_content": null,
            "justify_items": null,
            "left": null,
            "margin": null,
            "max_height": null,
            "max_width": null,
            "min_height": null,
            "min_width": null,
            "object_fit": null,
            "object_position": null,
            "order": null,
            "overflow": null,
            "overflow_x": null,
            "overflow_y": null,
            "padding": null,
            "right": null,
            "top": null,
            "visibility": null,
            "width": null
          }
        },
        "bebb8ec627614438be9b4960e4a6539e": {
          "model_module": "@jupyter-widgets/controls",
          "model_name": "DescriptionStyleModel",
          "model_module_version": "1.5.0",
          "state": {
            "_model_module": "@jupyter-widgets/controls",
            "_model_module_version": "1.5.0",
            "_model_name": "DescriptionStyleModel",
            "_view_count": null,
            "_view_module": "@jupyter-widgets/base",
            "_view_module_version": "1.2.0",
            "_view_name": "StyleView",
            "description_width": ""
          }
        },
        "7b3655426ef246819f89d63fd8c90045": {
          "model_module": "@jupyter-widgets/base",
          "model_name": "LayoutModel",
          "model_module_version": "1.2.0",
          "state": {
            "_model_module": "@jupyter-widgets/base",
            "_model_module_version": "1.2.0",
            "_model_name": "LayoutModel",
            "_view_count": null,
            "_view_module": "@jupyter-widgets/base",
            "_view_module_version": "1.2.0",
            "_view_name": "LayoutView",
            "align_content": null,
            "align_items": null,
            "align_self": null,
            "border": null,
            "bottom": null,
            "display": null,
            "flex": null,
            "flex_flow": null,
            "grid_area": null,
            "grid_auto_columns": null,
            "grid_auto_flow": null,
            "grid_auto_rows": null,
            "grid_column": null,
            "grid_gap": null,
            "grid_row": null,
            "grid_template_areas": null,
            "grid_template_columns": null,
            "grid_template_rows": null,
            "height": null,
            "justify_content": null,
            "justify_items": null,
            "left": null,
            "margin": null,
            "max_height": null,
            "max_width": null,
            "min_height": null,
            "min_width": null,
            "object_fit": null,
            "object_position": null,
            "order": null,
            "overflow": null,
            "overflow_x": null,
            "overflow_y": null,
            "padding": null,
            "right": null,
            "top": null,
            "visibility": null,
            "width": "20px"
          }
        },
        "559c3c12a899484db1835fc94ab04940": {
          "model_module": "@jupyter-widgets/controls",
          "model_name": "ProgressStyleModel",
          "model_module_version": "1.5.0",
          "state": {
            "_model_module": "@jupyter-widgets/controls",
            "_model_module_version": "1.5.0",
            "_model_name": "ProgressStyleModel",
            "_view_count": null,
            "_view_module": "@jupyter-widgets/base",
            "_view_module_version": "1.2.0",
            "_view_name": "StyleView",
            "bar_color": null,
            "description_width": ""
          }
        },
        "b7e0c14cb2c545c5b202a11235a4aa2d": {
          "model_module": "@jupyter-widgets/base",
          "model_name": "LayoutModel",
          "model_module_version": "1.2.0",
          "state": {
            "_model_module": "@jupyter-widgets/base",
            "_model_module_version": "1.2.0",
            "_model_name": "LayoutModel",
            "_view_count": null,
            "_view_module": "@jupyter-widgets/base",
            "_view_module_version": "1.2.0",
            "_view_name": "LayoutView",
            "align_content": null,
            "align_items": null,
            "align_self": null,
            "border": null,
            "bottom": null,
            "display": null,
            "flex": null,
            "flex_flow": null,
            "grid_area": null,
            "grid_auto_columns": null,
            "grid_auto_flow": null,
            "grid_auto_rows": null,
            "grid_column": null,
            "grid_gap": null,
            "grid_row": null,
            "grid_template_areas": null,
            "grid_template_columns": null,
            "grid_template_rows": null,
            "height": null,
            "justify_content": null,
            "justify_items": null,
            "left": null,
            "margin": null,
            "max_height": null,
            "max_width": null,
            "min_height": null,
            "min_width": null,
            "object_fit": null,
            "object_position": null,
            "order": null,
            "overflow": null,
            "overflow_x": null,
            "overflow_y": null,
            "padding": null,
            "right": null,
            "top": null,
            "visibility": null,
            "width": null
          }
        },
        "cef1df1755104c1eb388dbb90ce39703": {
          "model_module": "@jupyter-widgets/controls",
          "model_name": "DescriptionStyleModel",
          "model_module_version": "1.5.0",
          "state": {
            "_model_module": "@jupyter-widgets/controls",
            "_model_module_version": "1.5.0",
            "_model_name": "DescriptionStyleModel",
            "_view_count": null,
            "_view_module": "@jupyter-widgets/base",
            "_view_module_version": "1.2.0",
            "_view_name": "StyleView",
            "description_width": ""
          }
        },
        "f0ed1809933b4520b57f05fcc2c9856c": {
          "model_module": "@jupyter-widgets/controls",
          "model_name": "HBoxModel",
          "model_module_version": "1.5.0",
          "state": {
            "_dom_classes": [],
            "_model_module": "@jupyter-widgets/controls",
            "_model_module_version": "1.5.0",
            "_model_name": "HBoxModel",
            "_view_count": null,
            "_view_module": "@jupyter-widgets/controls",
            "_view_module_version": "1.5.0",
            "_view_name": "HBoxView",
            "box_style": "",
            "children": [
              "IPY_MODEL_c5162f2b30554f3bbf35d69e26964f03",
              "IPY_MODEL_aa0e156f28a04bbe86f87baf031c4f06",
              "IPY_MODEL_4c779702ae19405e90fc18e792d00420"
            ],
            "layout": "IPY_MODEL_376bbbc3a00b4b63be1a8be7807f82df"
          }
        },
        "c5162f2b30554f3bbf35d69e26964f03": {
          "model_module": "@jupyter-widgets/controls",
          "model_name": "HTMLModel",
          "model_module_version": "1.5.0",
          "state": {
            "_dom_classes": [],
            "_model_module": "@jupyter-widgets/controls",
            "_model_module_version": "1.5.0",
            "_model_name": "HTMLModel",
            "_view_count": null,
            "_view_module": "@jupyter-widgets/controls",
            "_view_module_version": "1.5.0",
            "_view_name": "HTMLView",
            "description": "",
            "description_tooltip": null,
            "layout": "IPY_MODEL_5844408400e24a92a434e438e28ec8ef",
            "placeholder": "​",
            "style": "IPY_MODEL_0d1dcd6bbdc14144aab65864af43caf5",
            "value": "Extraction completed...: 100%"
          }
        },
        "aa0e156f28a04bbe86f87baf031c4f06": {
          "model_module": "@jupyter-widgets/controls",
          "model_name": "FloatProgressModel",
          "model_module_version": "1.5.0",
          "state": {
            "_dom_classes": [],
            "_model_module": "@jupyter-widgets/controls",
            "_model_module_version": "1.5.0",
            "_model_name": "FloatProgressModel",
            "_view_count": null,
            "_view_module": "@jupyter-widgets/controls",
            "_view_module_version": "1.5.0",
            "_view_name": "ProgressView",
            "bar_style": "success",
            "description": "",
            "description_tooltip": null,
            "layout": "IPY_MODEL_9bf0f096dd954af1804dc9b78da81336",
            "max": 1,
            "min": 0,
            "orientation": "horizontal",
            "style": "IPY_MODEL_3c48752033f74a3aa699b2c8ba3c453f",
            "value": 1
          }
        },
        "4c779702ae19405e90fc18e792d00420": {
          "model_module": "@jupyter-widgets/controls",
          "model_name": "HTMLModel",
          "model_module_version": "1.5.0",
          "state": {
            "_dom_classes": [],
            "_model_module": "@jupyter-widgets/controls",
            "_model_module_version": "1.5.0",
            "_model_name": "HTMLModel",
            "_view_count": null,
            "_view_module": "@jupyter-widgets/controls",
            "_view_module_version": "1.5.0",
            "_view_name": "HTMLView",
            "description": "",
            "description_tooltip": null,
            "layout": "IPY_MODEL_a0857dc9a65b4fe6b9f7034950401888",
            "placeholder": "​",
            "style": "IPY_MODEL_39c6e892e86849aea330acbb57b31ddd",
            "value": " 23/23 [00:03&lt;00:00,  3.22s/ file]"
          }
        },
        "376bbbc3a00b4b63be1a8be7807f82df": {
          "model_module": "@jupyter-widgets/base",
          "model_name": "LayoutModel",
          "model_module_version": "1.2.0",
          "state": {
            "_model_module": "@jupyter-widgets/base",
            "_model_module_version": "1.2.0",
            "_model_name": "LayoutModel",
            "_view_count": null,
            "_view_module": "@jupyter-widgets/base",
            "_view_module_version": "1.2.0",
            "_view_name": "LayoutView",
            "align_content": null,
            "align_items": null,
            "align_self": null,
            "border": null,
            "bottom": null,
            "display": null,
            "flex": null,
            "flex_flow": null,
            "grid_area": null,
            "grid_auto_columns": null,
            "grid_auto_flow": null,
            "grid_auto_rows": null,
            "grid_column": null,
            "grid_gap": null,
            "grid_row": null,
            "grid_template_areas": null,
            "grid_template_columns": null,
            "grid_template_rows": null,
            "height": null,
            "justify_content": null,
            "justify_items": null,
            "left": null,
            "margin": null,
            "max_height": null,
            "max_width": null,
            "min_height": null,
            "min_width": null,
            "object_fit": null,
            "object_position": null,
            "order": null,
            "overflow": null,
            "overflow_x": null,
            "overflow_y": null,
            "padding": null,
            "right": null,
            "top": null,
            "visibility": null,
            "width": null
          }
        },
        "5844408400e24a92a434e438e28ec8ef": {
          "model_module": "@jupyter-widgets/base",
          "model_name": "LayoutModel",
          "model_module_version": "1.2.0",
          "state": {
            "_model_module": "@jupyter-widgets/base",
            "_model_module_version": "1.2.0",
            "_model_name": "LayoutModel",
            "_view_count": null,
            "_view_module": "@jupyter-widgets/base",
            "_view_module_version": "1.2.0",
            "_view_name": "LayoutView",
            "align_content": null,
            "align_items": null,
            "align_self": null,
            "border": null,
            "bottom": null,
            "display": null,
            "flex": null,
            "flex_flow": null,
            "grid_area": null,
            "grid_auto_columns": null,
            "grid_auto_flow": null,
            "grid_auto_rows": null,
            "grid_column": null,
            "grid_gap": null,
            "grid_row": null,
            "grid_template_areas": null,
            "grid_template_columns": null,
            "grid_template_rows": null,
            "height": null,
            "justify_content": null,
            "justify_items": null,
            "left": null,
            "margin": null,
            "max_height": null,
            "max_width": null,
            "min_height": null,
            "min_width": null,
            "object_fit": null,
            "object_position": null,
            "order": null,
            "overflow": null,
            "overflow_x": null,
            "overflow_y": null,
            "padding": null,
            "right": null,
            "top": null,
            "visibility": null,
            "width": null
          }
        },
        "0d1dcd6bbdc14144aab65864af43caf5": {
          "model_module": "@jupyter-widgets/controls",
          "model_name": "DescriptionStyleModel",
          "model_module_version": "1.5.0",
          "state": {
            "_model_module": "@jupyter-widgets/controls",
            "_model_module_version": "1.5.0",
            "_model_name": "DescriptionStyleModel",
            "_view_count": null,
            "_view_module": "@jupyter-widgets/base",
            "_view_module_version": "1.2.0",
            "_view_name": "StyleView",
            "description_width": ""
          }
        },
        "9bf0f096dd954af1804dc9b78da81336": {
          "model_module": "@jupyter-widgets/base",
          "model_name": "LayoutModel",
          "model_module_version": "1.2.0",
          "state": {
            "_model_module": "@jupyter-widgets/base",
            "_model_module_version": "1.2.0",
            "_model_name": "LayoutModel",
            "_view_count": null,
            "_view_module": "@jupyter-widgets/base",
            "_view_module_version": "1.2.0",
            "_view_name": "LayoutView",
            "align_content": null,
            "align_items": null,
            "align_self": null,
            "border": null,
            "bottom": null,
            "display": null,
            "flex": null,
            "flex_flow": null,
            "grid_area": null,
            "grid_auto_columns": null,
            "grid_auto_flow": null,
            "grid_auto_rows": null,
            "grid_column": null,
            "grid_gap": null,
            "grid_row": null,
            "grid_template_areas": null,
            "grid_template_columns": null,
            "grid_template_rows": null,
            "height": null,
            "justify_content": null,
            "justify_items": null,
            "left": null,
            "margin": null,
            "max_height": null,
            "max_width": null,
            "min_height": null,
            "min_width": null,
            "object_fit": null,
            "object_position": null,
            "order": null,
            "overflow": null,
            "overflow_x": null,
            "overflow_y": null,
            "padding": null,
            "right": null,
            "top": null,
            "visibility": null,
            "width": "20px"
          }
        },
        "3c48752033f74a3aa699b2c8ba3c453f": {
          "model_module": "@jupyter-widgets/controls",
          "model_name": "ProgressStyleModel",
          "model_module_version": "1.5.0",
          "state": {
            "_model_module": "@jupyter-widgets/controls",
            "_model_module_version": "1.5.0",
            "_model_name": "ProgressStyleModel",
            "_view_count": null,
            "_view_module": "@jupyter-widgets/base",
            "_view_module_version": "1.2.0",
            "_view_name": "StyleView",
            "bar_color": null,
            "description_width": ""
          }
        },
        "a0857dc9a65b4fe6b9f7034950401888": {
          "model_module": "@jupyter-widgets/base",
          "model_name": "LayoutModel",
          "model_module_version": "1.2.0",
          "state": {
            "_model_module": "@jupyter-widgets/base",
            "_model_module_version": "1.2.0",
            "_model_name": "LayoutModel",
            "_view_count": null,
            "_view_module": "@jupyter-widgets/base",
            "_view_module_version": "1.2.0",
            "_view_name": "LayoutView",
            "align_content": null,
            "align_items": null,
            "align_self": null,
            "border": null,
            "bottom": null,
            "display": null,
            "flex": null,
            "flex_flow": null,
            "grid_area": null,
            "grid_auto_columns": null,
            "grid_auto_flow": null,
            "grid_auto_rows": null,
            "grid_column": null,
            "grid_gap": null,
            "grid_row": null,
            "grid_template_areas": null,
            "grid_template_columns": null,
            "grid_template_rows": null,
            "height": null,
            "justify_content": null,
            "justify_items": null,
            "left": null,
            "margin": null,
            "max_height": null,
            "max_width": null,
            "min_height": null,
            "min_width": null,
            "object_fit": null,
            "object_position": null,
            "order": null,
            "overflow": null,
            "overflow_x": null,
            "overflow_y": null,
            "padding": null,
            "right": null,
            "top": null,
            "visibility": null,
            "width": null
          }
        },
        "39c6e892e86849aea330acbb57b31ddd": {
          "model_module": "@jupyter-widgets/controls",
          "model_name": "DescriptionStyleModel",
          "model_module_version": "1.5.0",
          "state": {
            "_model_module": "@jupyter-widgets/controls",
            "_model_module_version": "1.5.0",
            "_model_name": "DescriptionStyleModel",
            "_view_count": null,
            "_view_module": "@jupyter-widgets/base",
            "_view_module_version": "1.2.0",
            "_view_name": "StyleView",
            "description_width": ""
          }
        },
        "5ebbca38afa44b249759417254c7f180": {
          "model_module": "@jupyter-widgets/controls",
          "model_name": "HBoxModel",
          "model_module_version": "1.5.0",
          "state": {
            "_dom_classes": [],
            "_model_module": "@jupyter-widgets/controls",
            "_model_module_version": "1.5.0",
            "_model_name": "HBoxModel",
            "_view_count": null,
            "_view_module": "@jupyter-widgets/controls",
            "_view_module_version": "1.5.0",
            "_view_name": "HBoxView",
            "box_style": "",
            "children": [
              "IPY_MODEL_01787d6beeeb475c91bc7ba13f3cd842",
              "IPY_MODEL_911bd284055744588fff3555b456876d",
              "IPY_MODEL_4e2ebf241f574d5eb8e7788223d2e11f"
            ],
            "layout": "IPY_MODEL_fa313d95bbe24274aad23c0a97094f2b"
          }
        },
        "01787d6beeeb475c91bc7ba13f3cd842": {
          "model_module": "@jupyter-widgets/controls",
          "model_name": "HTMLModel",
          "model_module_version": "1.5.0",
          "state": {
            "_dom_classes": [],
            "_model_module": "@jupyter-widgets/controls",
            "_model_module_version": "1.5.0",
            "_model_name": "HTMLModel",
            "_view_count": null,
            "_view_module": "@jupyter-widgets/controls",
            "_view_module_version": "1.5.0",
            "_view_name": "HTMLView",
            "description": "",
            "description_tooltip": null,
            "layout": "IPY_MODEL_3452e2abcaca4d54b755299c7c28b7df",
            "placeholder": "​",
            "style": "IPY_MODEL_81fdb71cf07e4d109757539694f952fd",
            "value": "Generating splits...: 100%"
          }
        },
        "911bd284055744588fff3555b456876d": {
          "model_module": "@jupyter-widgets/controls",
          "model_name": "FloatProgressModel",
          "model_module_version": "1.5.0",
          "state": {
            "_dom_classes": [],
            "_model_module": "@jupyter-widgets/controls",
            "_model_module_version": "1.5.0",
            "_model_name": "FloatProgressModel",
            "_view_count": null,
            "_view_module": "@jupyter-widgets/controls",
            "_view_module_version": "1.5.0",
            "_view_name": "ProgressView",
            "bar_style": "",
            "description": "",
            "description_tooltip": null,
            "layout": "IPY_MODEL_5aa2206f393f4ea5a8e42ce364120258",
            "max": 1,
            "min": 0,
            "orientation": "horizontal",
            "style": "IPY_MODEL_633ae161efe2446096c196e78980870c",
            "value": 1
          }
        },
        "4e2ebf241f574d5eb8e7788223d2e11f": {
          "model_module": "@jupyter-widgets/controls",
          "model_name": "HTMLModel",
          "model_module_version": "1.5.0",
          "state": {
            "_dom_classes": [],
            "_model_module": "@jupyter-widgets/controls",
            "_model_module_version": "1.5.0",
            "_model_name": "HTMLModel",
            "_view_count": null,
            "_view_module": "@jupyter-widgets/controls",
            "_view_module_version": "1.5.0",
            "_view_name": "HTMLView",
            "description": "",
            "description_tooltip": null,
            "layout": "IPY_MODEL_2958e8fae8bc4476a3a4519a10ac328c",
            "placeholder": "​",
            "style": "IPY_MODEL_9c641f8bd214481ab67655abe2c4faa9",
            "value": " 1/1 [00:41&lt;00:00, 41.00s/ splits]"
          }
        },
        "fa313d95bbe24274aad23c0a97094f2b": {
          "model_module": "@jupyter-widgets/base",
          "model_name": "LayoutModel",
          "model_module_version": "1.2.0",
          "state": {
            "_model_module": "@jupyter-widgets/base",
            "_model_module_version": "1.2.0",
            "_model_name": "LayoutModel",
            "_view_count": null,
            "_view_module": "@jupyter-widgets/base",
            "_view_module_version": "1.2.0",
            "_view_name": "LayoutView",
            "align_content": null,
            "align_items": null,
            "align_self": null,
            "border": null,
            "bottom": null,
            "display": null,
            "flex": null,
            "flex_flow": null,
            "grid_area": null,
            "grid_auto_columns": null,
            "grid_auto_flow": null,
            "grid_auto_rows": null,
            "grid_column": null,
            "grid_gap": null,
            "grid_row": null,
            "grid_template_areas": null,
            "grid_template_columns": null,
            "grid_template_rows": null,
            "height": null,
            "justify_content": null,
            "justify_items": null,
            "left": null,
            "margin": null,
            "max_height": null,
            "max_width": null,
            "min_height": null,
            "min_width": null,
            "object_fit": null,
            "object_position": null,
            "order": null,
            "overflow": null,
            "overflow_x": null,
            "overflow_y": null,
            "padding": null,
            "right": null,
            "top": null,
            "visibility": "hidden",
            "width": null
          }
        },
        "3452e2abcaca4d54b755299c7c28b7df": {
          "model_module": "@jupyter-widgets/base",
          "model_name": "LayoutModel",
          "model_module_version": "1.2.0",
          "state": {
            "_model_module": "@jupyter-widgets/base",
            "_model_module_version": "1.2.0",
            "_model_name": "LayoutModel",
            "_view_count": null,
            "_view_module": "@jupyter-widgets/base",
            "_view_module_version": "1.2.0",
            "_view_name": "LayoutView",
            "align_content": null,
            "align_items": null,
            "align_self": null,
            "border": null,
            "bottom": null,
            "display": null,
            "flex": null,
            "flex_flow": null,
            "grid_area": null,
            "grid_auto_columns": null,
            "grid_auto_flow": null,
            "grid_auto_rows": null,
            "grid_column": null,
            "grid_gap": null,
            "grid_row": null,
            "grid_template_areas": null,
            "grid_template_columns": null,
            "grid_template_rows": null,
            "height": null,
            "justify_content": null,
            "justify_items": null,
            "left": null,
            "margin": null,
            "max_height": null,
            "max_width": null,
            "min_height": null,
            "min_width": null,
            "object_fit": null,
            "object_position": null,
            "order": null,
            "overflow": null,
            "overflow_x": null,
            "overflow_y": null,
            "padding": null,
            "right": null,
            "top": null,
            "visibility": null,
            "width": null
          }
        },
        "81fdb71cf07e4d109757539694f952fd": {
          "model_module": "@jupyter-widgets/controls",
          "model_name": "DescriptionStyleModel",
          "model_module_version": "1.5.0",
          "state": {
            "_model_module": "@jupyter-widgets/controls",
            "_model_module_version": "1.5.0",
            "_model_name": "DescriptionStyleModel",
            "_view_count": null,
            "_view_module": "@jupyter-widgets/base",
            "_view_module_version": "1.2.0",
            "_view_name": "StyleView",
            "description_width": ""
          }
        },
        "5aa2206f393f4ea5a8e42ce364120258": {
          "model_module": "@jupyter-widgets/base",
          "model_name": "LayoutModel",
          "model_module_version": "1.2.0",
          "state": {
            "_model_module": "@jupyter-widgets/base",
            "_model_module_version": "1.2.0",
            "_model_name": "LayoutModel",
            "_view_count": null,
            "_view_module": "@jupyter-widgets/base",
            "_view_module_version": "1.2.0",
            "_view_name": "LayoutView",
            "align_content": null,
            "align_items": null,
            "align_self": null,
            "border": null,
            "bottom": null,
            "display": null,
            "flex": null,
            "flex_flow": null,
            "grid_area": null,
            "grid_auto_columns": null,
            "grid_auto_flow": null,
            "grid_auto_rows": null,
            "grid_column": null,
            "grid_gap": null,
            "grid_row": null,
            "grid_template_areas": null,
            "grid_template_columns": null,
            "grid_template_rows": null,
            "height": null,
            "justify_content": null,
            "justify_items": null,
            "left": null,
            "margin": null,
            "max_height": null,
            "max_width": null,
            "min_height": null,
            "min_width": null,
            "object_fit": null,
            "object_position": null,
            "order": null,
            "overflow": null,
            "overflow_x": null,
            "overflow_y": null,
            "padding": null,
            "right": null,
            "top": null,
            "visibility": null,
            "width": null
          }
        },
        "633ae161efe2446096c196e78980870c": {
          "model_module": "@jupyter-widgets/controls",
          "model_name": "ProgressStyleModel",
          "model_module_version": "1.5.0",
          "state": {
            "_model_module": "@jupyter-widgets/controls",
            "_model_module_version": "1.5.0",
            "_model_name": "ProgressStyleModel",
            "_view_count": null,
            "_view_module": "@jupyter-widgets/base",
            "_view_module_version": "1.2.0",
            "_view_name": "StyleView",
            "bar_color": null,
            "description_width": ""
          }
        },
        "2958e8fae8bc4476a3a4519a10ac328c": {
          "model_module": "@jupyter-widgets/base",
          "model_name": "LayoutModel",
          "model_module_version": "1.2.0",
          "state": {
            "_model_module": "@jupyter-widgets/base",
            "_model_module_version": "1.2.0",
            "_model_name": "LayoutModel",
            "_view_count": null,
            "_view_module": "@jupyter-widgets/base",
            "_view_module_version": "1.2.0",
            "_view_name": "LayoutView",
            "align_content": null,
            "align_items": null,
            "align_self": null,
            "border": null,
            "bottom": null,
            "display": null,
            "flex": null,
            "flex_flow": null,
            "grid_area": null,
            "grid_auto_columns": null,
            "grid_auto_flow": null,
            "grid_auto_rows": null,
            "grid_column": null,
            "grid_gap": null,
            "grid_row": null,
            "grid_template_areas": null,
            "grid_template_columns": null,
            "grid_template_rows": null,
            "height": null,
            "justify_content": null,
            "justify_items": null,
            "left": null,
            "margin": null,
            "max_height": null,
            "max_width": null,
            "min_height": null,
            "min_width": null,
            "object_fit": null,
            "object_position": null,
            "order": null,
            "overflow": null,
            "overflow_x": null,
            "overflow_y": null,
            "padding": null,
            "right": null,
            "top": null,
            "visibility": null,
            "width": null
          }
        },
        "9c641f8bd214481ab67655abe2c4faa9": {
          "model_module": "@jupyter-widgets/controls",
          "model_name": "DescriptionStyleModel",
          "model_module_version": "1.5.0",
          "state": {
            "_model_module": "@jupyter-widgets/controls",
            "_model_module_version": "1.5.0",
            "_model_name": "DescriptionStyleModel",
            "_view_count": null,
            "_view_module": "@jupyter-widgets/base",
            "_view_module_version": "1.2.0",
            "_view_name": "StyleView",
            "description_width": ""
          }
        },
        "e1b842d04b1f45b6a3c3e5260fc0652d": {
          "model_module": "@jupyter-widgets/controls",
          "model_name": "HBoxModel",
          "model_module_version": "1.5.0",
          "state": {
            "_dom_classes": [],
            "_model_module": "@jupyter-widgets/controls",
            "_model_module_version": "1.5.0",
            "_model_name": "HBoxModel",
            "_view_count": null,
            "_view_module": "@jupyter-widgets/controls",
            "_view_module_version": "1.5.0",
            "_view_name": "HBoxView",
            "box_style": "",
            "children": [
              "IPY_MODEL_bac758a21d46411c815863ec50d2b51f",
              "IPY_MODEL_43dba2dcda4f4e53a96a451855ef7a69",
              "IPY_MODEL_79b55fc49c65451792ca5f6710849a2e"
            ],
            "layout": "IPY_MODEL_7adb76e4b4024168a4308174312d2392"
          }
        },
        "bac758a21d46411c815863ec50d2b51f": {
          "model_module": "@jupyter-widgets/controls",
          "model_name": "HTMLModel",
          "model_module_version": "1.5.0",
          "state": {
            "_dom_classes": [],
            "_model_module": "@jupyter-widgets/controls",
            "_model_module_version": "1.5.0",
            "_model_name": "HTMLModel",
            "_view_count": null,
            "_view_module": "@jupyter-widgets/controls",
            "_view_module_version": "1.5.0",
            "_view_name": "HTMLView",
            "description": "",
            "description_tooltip": null,
            "layout": "IPY_MODEL_b745d4735edb43f09a1c170cf101854e",
            "placeholder": "​",
            "style": "IPY_MODEL_2ab0747d87cb47d5b08ef6773f567a21",
            "value": "Generating train examples...:  97%"
          }
        },
        "43dba2dcda4f4e53a96a451855ef7a69": {
          "model_module": "@jupyter-widgets/controls",
          "model_name": "FloatProgressModel",
          "model_module_version": "1.5.0",
          "state": {
            "_dom_classes": [],
            "_model_module": "@jupyter-widgets/controls",
            "_model_module_version": "1.5.0",
            "_model_name": "FloatProgressModel",
            "_view_count": null,
            "_view_module": "@jupyter-widgets/controls",
            "_view_module_version": "1.5.0",
            "_view_name": "ProgressView",
            "bar_style": "",
            "description": "",
            "description_tooltip": null,
            "layout": "IPY_MODEL_92f9d1723fc74dc19e0539ff450f909c",
            "max": 100000,
            "min": 0,
            "orientation": "horizontal",
            "style": "IPY_MODEL_0717e2b448ee47d3979ab7c5b68e0b43",
            "value": 100000
          }
        },
        "79b55fc49c65451792ca5f6710849a2e": {
          "model_module": "@jupyter-widgets/controls",
          "model_name": "HTMLModel",
          "model_module_version": "1.5.0",
          "state": {
            "_dom_classes": [],
            "_model_module": "@jupyter-widgets/controls",
            "_model_module_version": "1.5.0",
            "_model_name": "HTMLModel",
            "_view_count": null,
            "_view_module": "@jupyter-widgets/controls",
            "_view_module_version": "1.5.0",
            "_view_name": "HTMLView",
            "description": "",
            "description_tooltip": null,
            "layout": "IPY_MODEL_b1f62c40b3034feeaa32c58624320fe9",
            "placeholder": "​",
            "style": "IPY_MODEL_a9e249fe1c4942a486cc915955c88fbc",
            "value": " 97320/100000 [00:39&lt;00:01, 2645.11 examples/s]"
          }
        },
        "7adb76e4b4024168a4308174312d2392": {
          "model_module": "@jupyter-widgets/base",
          "model_name": "LayoutModel",
          "model_module_version": "1.2.0",
          "state": {
            "_model_module": "@jupyter-widgets/base",
            "_model_module_version": "1.2.0",
            "_model_name": "LayoutModel",
            "_view_count": null,
            "_view_module": "@jupyter-widgets/base",
            "_view_module_version": "1.2.0",
            "_view_name": "LayoutView",
            "align_content": null,
            "align_items": null,
            "align_self": null,
            "border": null,
            "bottom": null,
            "display": null,
            "flex": null,
            "flex_flow": null,
            "grid_area": null,
            "grid_auto_columns": null,
            "grid_auto_flow": null,
            "grid_auto_rows": null,
            "grid_column": null,
            "grid_gap": null,
            "grid_row": null,
            "grid_template_areas": null,
            "grid_template_columns": null,
            "grid_template_rows": null,
            "height": null,
            "justify_content": null,
            "justify_items": null,
            "left": null,
            "margin": null,
            "max_height": null,
            "max_width": null,
            "min_height": null,
            "min_width": null,
            "object_fit": null,
            "object_position": null,
            "order": null,
            "overflow": null,
            "overflow_x": null,
            "overflow_y": null,
            "padding": null,
            "right": null,
            "top": null,
            "visibility": "hidden",
            "width": null
          }
        },
        "b745d4735edb43f09a1c170cf101854e": {
          "model_module": "@jupyter-widgets/base",
          "model_name": "LayoutModel",
          "model_module_version": "1.2.0",
          "state": {
            "_model_module": "@jupyter-widgets/base",
            "_model_module_version": "1.2.0",
            "_model_name": "LayoutModel",
            "_view_count": null,
            "_view_module": "@jupyter-widgets/base",
            "_view_module_version": "1.2.0",
            "_view_name": "LayoutView",
            "align_content": null,
            "align_items": null,
            "align_self": null,
            "border": null,
            "bottom": null,
            "display": null,
            "flex": null,
            "flex_flow": null,
            "grid_area": null,
            "grid_auto_columns": null,
            "grid_auto_flow": null,
            "grid_auto_rows": null,
            "grid_column": null,
            "grid_gap": null,
            "grid_row": null,
            "grid_template_areas": null,
            "grid_template_columns": null,
            "grid_template_rows": null,
            "height": null,
            "justify_content": null,
            "justify_items": null,
            "left": null,
            "margin": null,
            "max_height": null,
            "max_width": null,
            "min_height": null,
            "min_width": null,
            "object_fit": null,
            "object_position": null,
            "order": null,
            "overflow": null,
            "overflow_x": null,
            "overflow_y": null,
            "padding": null,
            "right": null,
            "top": null,
            "visibility": null,
            "width": null
          }
        },
        "2ab0747d87cb47d5b08ef6773f567a21": {
          "model_module": "@jupyter-widgets/controls",
          "model_name": "DescriptionStyleModel",
          "model_module_version": "1.5.0",
          "state": {
            "_model_module": "@jupyter-widgets/controls",
            "_model_module_version": "1.5.0",
            "_model_name": "DescriptionStyleModel",
            "_view_count": null,
            "_view_module": "@jupyter-widgets/base",
            "_view_module_version": "1.2.0",
            "_view_name": "StyleView",
            "description_width": ""
          }
        },
        "92f9d1723fc74dc19e0539ff450f909c": {
          "model_module": "@jupyter-widgets/base",
          "model_name": "LayoutModel",
          "model_module_version": "1.2.0",
          "state": {
            "_model_module": "@jupyter-widgets/base",
            "_model_module_version": "1.2.0",
            "_model_name": "LayoutModel",
            "_view_count": null,
            "_view_module": "@jupyter-widgets/base",
            "_view_module_version": "1.2.0",
            "_view_name": "LayoutView",
            "align_content": null,
            "align_items": null,
            "align_self": null,
            "border": null,
            "bottom": null,
            "display": null,
            "flex": null,
            "flex_flow": null,
            "grid_area": null,
            "grid_auto_columns": null,
            "grid_auto_flow": null,
            "grid_auto_rows": null,
            "grid_column": null,
            "grid_gap": null,
            "grid_row": null,
            "grid_template_areas": null,
            "grid_template_columns": null,
            "grid_template_rows": null,
            "height": null,
            "justify_content": null,
            "justify_items": null,
            "left": null,
            "margin": null,
            "max_height": null,
            "max_width": null,
            "min_height": null,
            "min_width": null,
            "object_fit": null,
            "object_position": null,
            "order": null,
            "overflow": null,
            "overflow_x": null,
            "overflow_y": null,
            "padding": null,
            "right": null,
            "top": null,
            "visibility": null,
            "width": null
          }
        },
        "0717e2b448ee47d3979ab7c5b68e0b43": {
          "model_module": "@jupyter-widgets/controls",
          "model_name": "ProgressStyleModel",
          "model_module_version": "1.5.0",
          "state": {
            "_model_module": "@jupyter-widgets/controls",
            "_model_module_version": "1.5.0",
            "_model_name": "ProgressStyleModel",
            "_view_count": null,
            "_view_module": "@jupyter-widgets/base",
            "_view_module_version": "1.2.0",
            "_view_name": "StyleView",
            "bar_color": null,
            "description_width": ""
          }
        },
        "b1f62c40b3034feeaa32c58624320fe9": {
          "model_module": "@jupyter-widgets/base",
          "model_name": "LayoutModel",
          "model_module_version": "1.2.0",
          "state": {
            "_model_module": "@jupyter-widgets/base",
            "_model_module_version": "1.2.0",
            "_model_name": "LayoutModel",
            "_view_count": null,
            "_view_module": "@jupyter-widgets/base",
            "_view_module_version": "1.2.0",
            "_view_name": "LayoutView",
            "align_content": null,
            "align_items": null,
            "align_self": null,
            "border": null,
            "bottom": null,
            "display": null,
            "flex": null,
            "flex_flow": null,
            "grid_area": null,
            "grid_auto_columns": null,
            "grid_auto_flow": null,
            "grid_auto_rows": null,
            "grid_column": null,
            "grid_gap": null,
            "grid_row": null,
            "grid_template_areas": null,
            "grid_template_columns": null,
            "grid_template_rows": null,
            "height": null,
            "justify_content": null,
            "justify_items": null,
            "left": null,
            "margin": null,
            "max_height": null,
            "max_width": null,
            "min_height": null,
            "min_width": null,
            "object_fit": null,
            "object_position": null,
            "order": null,
            "overflow": null,
            "overflow_x": null,
            "overflow_y": null,
            "padding": null,
            "right": null,
            "top": null,
            "visibility": null,
            "width": null
          }
        },
        "a9e249fe1c4942a486cc915955c88fbc": {
          "model_module": "@jupyter-widgets/controls",
          "model_name": "DescriptionStyleModel",
          "model_module_version": "1.5.0",
          "state": {
            "_model_module": "@jupyter-widgets/controls",
            "_model_module_version": "1.5.0",
            "_model_name": "DescriptionStyleModel",
            "_view_count": null,
            "_view_module": "@jupyter-widgets/base",
            "_view_module_version": "1.2.0",
            "_view_name": "StyleView",
            "description_width": ""
          }
        },
        "291b979a9661415085205711a99abcea": {
          "model_module": "@jupyter-widgets/controls",
          "model_name": "HBoxModel",
          "model_module_version": "1.5.0",
          "state": {
            "_dom_classes": [],
            "_model_module": "@jupyter-widgets/controls",
            "_model_module_version": "1.5.0",
            "_model_name": "HBoxModel",
            "_view_count": null,
            "_view_module": "@jupyter-widgets/controls",
            "_view_module_version": "1.5.0",
            "_view_name": "HBoxView",
            "box_style": "",
            "children": [
              "IPY_MODEL_80b88bae7b684b1d8948eaca13c3a2af",
              "IPY_MODEL_812330be38a347fbaec9d51690a3de1b",
              "IPY_MODEL_fd49465361794bb193558f5f1dd336d2"
            ],
            "layout": "IPY_MODEL_49fe0ec072af4bfd9a0f8bfce7a94a58"
          }
        },
        "80b88bae7b684b1d8948eaca13c3a2af": {
          "model_module": "@jupyter-widgets/controls",
          "model_name": "HTMLModel",
          "model_module_version": "1.5.0",
          "state": {
            "_dom_classes": [],
            "_model_module": "@jupyter-widgets/controls",
            "_model_module_version": "1.5.0",
            "_model_name": "HTMLModel",
            "_view_count": null,
            "_view_module": "@jupyter-widgets/controls",
            "_view_module_version": "1.5.0",
            "_view_name": "HTMLView",
            "description": "",
            "description_tooltip": null,
            "layout": "IPY_MODEL_c4e4b5c3090644f4862d449f768b5d82",
            "placeholder": "​",
            "style": "IPY_MODEL_134f4110a68b45b7b142b70bc14b9e7f",
            "value": "Shuffling /root/tensorflow_datasets/movie_lens/100k-ratings/0.1.1.incompleteMG4KNQ/movie_lens-train.tfrecord*...:  84%"
          }
        },
        "812330be38a347fbaec9d51690a3de1b": {
          "model_module": "@jupyter-widgets/controls",
          "model_name": "FloatProgressModel",
          "model_module_version": "1.5.0",
          "state": {
            "_dom_classes": [],
            "_model_module": "@jupyter-widgets/controls",
            "_model_module_version": "1.5.0",
            "_model_name": "FloatProgressModel",
            "_view_count": null,
            "_view_module": "@jupyter-widgets/controls",
            "_view_module_version": "1.5.0",
            "_view_name": "ProgressView",
            "bar_style": "",
            "description": "",
            "description_tooltip": null,
            "layout": "IPY_MODEL_36f41ceeb23145249ad513caaed84a46",
            "max": 100000,
            "min": 0,
            "orientation": "horizontal",
            "style": "IPY_MODEL_2f9999719b59465f8f8da18bc06e00e8",
            "value": 100000
          }
        },
        "fd49465361794bb193558f5f1dd336d2": {
          "model_module": "@jupyter-widgets/controls",
          "model_name": "HTMLModel",
          "model_module_version": "1.5.0",
          "state": {
            "_dom_classes": [],
            "_model_module": "@jupyter-widgets/controls",
            "_model_module_version": "1.5.0",
            "_model_name": "HTMLModel",
            "_view_count": null,
            "_view_module": "@jupyter-widgets/controls",
            "_view_module_version": "1.5.0",
            "_view_name": "HTMLView",
            "description": "",
            "description_tooltip": null,
            "layout": "IPY_MODEL_fa0003cee0cd4a3fb55fd3b19fcb9776",
            "placeholder": "​",
            "style": "IPY_MODEL_2a4142d564a749e3986d53db882b3d11",
            "value": " 83699/100000 [00:00&lt;00:00, 324126.57 examples/s]"
          }
        },
        "49fe0ec072af4bfd9a0f8bfce7a94a58": {
          "model_module": "@jupyter-widgets/base",
          "model_name": "LayoutModel",
          "model_module_version": "1.2.0",
          "state": {
            "_model_module": "@jupyter-widgets/base",
            "_model_module_version": "1.2.0",
            "_model_name": "LayoutModel",
            "_view_count": null,
            "_view_module": "@jupyter-widgets/base",
            "_view_module_version": "1.2.0",
            "_view_name": "LayoutView",
            "align_content": null,
            "align_items": null,
            "align_self": null,
            "border": null,
            "bottom": null,
            "display": null,
            "flex": null,
            "flex_flow": null,
            "grid_area": null,
            "grid_auto_columns": null,
            "grid_auto_flow": null,
            "grid_auto_rows": null,
            "grid_column": null,
            "grid_gap": null,
            "grid_row": null,
            "grid_template_areas": null,
            "grid_template_columns": null,
            "grid_template_rows": null,
            "height": null,
            "justify_content": null,
            "justify_items": null,
            "left": null,
            "margin": null,
            "max_height": null,
            "max_width": null,
            "min_height": null,
            "min_width": null,
            "object_fit": null,
            "object_position": null,
            "order": null,
            "overflow": null,
            "overflow_x": null,
            "overflow_y": null,
            "padding": null,
            "right": null,
            "top": null,
            "visibility": "hidden",
            "width": null
          }
        },
        "c4e4b5c3090644f4862d449f768b5d82": {
          "model_module": "@jupyter-widgets/base",
          "model_name": "LayoutModel",
          "model_module_version": "1.2.0",
          "state": {
            "_model_module": "@jupyter-widgets/base",
            "_model_module_version": "1.2.0",
            "_model_name": "LayoutModel",
            "_view_count": null,
            "_view_module": "@jupyter-widgets/base",
            "_view_module_version": "1.2.0",
            "_view_name": "LayoutView",
            "align_content": null,
            "align_items": null,
            "align_self": null,
            "border": null,
            "bottom": null,
            "display": null,
            "flex": null,
            "flex_flow": null,
            "grid_area": null,
            "grid_auto_columns": null,
            "grid_auto_flow": null,
            "grid_auto_rows": null,
            "grid_column": null,
            "grid_gap": null,
            "grid_row": null,
            "grid_template_areas": null,
            "grid_template_columns": null,
            "grid_template_rows": null,
            "height": null,
            "justify_content": null,
            "justify_items": null,
            "left": null,
            "margin": null,
            "max_height": null,
            "max_width": null,
            "min_height": null,
            "min_width": null,
            "object_fit": null,
            "object_position": null,
            "order": null,
            "overflow": null,
            "overflow_x": null,
            "overflow_y": null,
            "padding": null,
            "right": null,
            "top": null,
            "visibility": null,
            "width": null
          }
        },
        "134f4110a68b45b7b142b70bc14b9e7f": {
          "model_module": "@jupyter-widgets/controls",
          "model_name": "DescriptionStyleModel",
          "model_module_version": "1.5.0",
          "state": {
            "_model_module": "@jupyter-widgets/controls",
            "_model_module_version": "1.5.0",
            "_model_name": "DescriptionStyleModel",
            "_view_count": null,
            "_view_module": "@jupyter-widgets/base",
            "_view_module_version": "1.2.0",
            "_view_name": "StyleView",
            "description_width": ""
          }
        },
        "36f41ceeb23145249ad513caaed84a46": {
          "model_module": "@jupyter-widgets/base",
          "model_name": "LayoutModel",
          "model_module_version": "1.2.0",
          "state": {
            "_model_module": "@jupyter-widgets/base",
            "_model_module_version": "1.2.0",
            "_model_name": "LayoutModel",
            "_view_count": null,
            "_view_module": "@jupyter-widgets/base",
            "_view_module_version": "1.2.0",
            "_view_name": "LayoutView",
            "align_content": null,
            "align_items": null,
            "align_self": null,
            "border": null,
            "bottom": null,
            "display": null,
            "flex": null,
            "flex_flow": null,
            "grid_area": null,
            "grid_auto_columns": null,
            "grid_auto_flow": null,
            "grid_auto_rows": null,
            "grid_column": null,
            "grid_gap": null,
            "grid_row": null,
            "grid_template_areas": null,
            "grid_template_columns": null,
            "grid_template_rows": null,
            "height": null,
            "justify_content": null,
            "justify_items": null,
            "left": null,
            "margin": null,
            "max_height": null,
            "max_width": null,
            "min_height": null,
            "min_width": null,
            "object_fit": null,
            "object_position": null,
            "order": null,
            "overflow": null,
            "overflow_x": null,
            "overflow_y": null,
            "padding": null,
            "right": null,
            "top": null,
            "visibility": null,
            "width": null
          }
        },
        "2f9999719b59465f8f8da18bc06e00e8": {
          "model_module": "@jupyter-widgets/controls",
          "model_name": "ProgressStyleModel",
          "model_module_version": "1.5.0",
          "state": {
            "_model_module": "@jupyter-widgets/controls",
            "_model_module_version": "1.5.0",
            "_model_name": "ProgressStyleModel",
            "_view_count": null,
            "_view_module": "@jupyter-widgets/base",
            "_view_module_version": "1.2.0",
            "_view_name": "StyleView",
            "bar_color": null,
            "description_width": ""
          }
        },
        "fa0003cee0cd4a3fb55fd3b19fcb9776": {
          "model_module": "@jupyter-widgets/base",
          "model_name": "LayoutModel",
          "model_module_version": "1.2.0",
          "state": {
            "_model_module": "@jupyter-widgets/base",
            "_model_module_version": "1.2.0",
            "_model_name": "LayoutModel",
            "_view_count": null,
            "_view_module": "@jupyter-widgets/base",
            "_view_module_version": "1.2.0",
            "_view_name": "LayoutView",
            "align_content": null,
            "align_items": null,
            "align_self": null,
            "border": null,
            "bottom": null,
            "display": null,
            "flex": null,
            "flex_flow": null,
            "grid_area": null,
            "grid_auto_columns": null,
            "grid_auto_flow": null,
            "grid_auto_rows": null,
            "grid_column": null,
            "grid_gap": null,
            "grid_row": null,
            "grid_template_areas": null,
            "grid_template_columns": null,
            "grid_template_rows": null,
            "height": null,
            "justify_content": null,
            "justify_items": null,
            "left": null,
            "margin": null,
            "max_height": null,
            "max_width": null,
            "min_height": null,
            "min_width": null,
            "object_fit": null,
            "object_position": null,
            "order": null,
            "overflow": null,
            "overflow_x": null,
            "overflow_y": null,
            "padding": null,
            "right": null,
            "top": null,
            "visibility": null,
            "width": null
          }
        },
        "2a4142d564a749e3986d53db882b3d11": {
          "model_module": "@jupyter-widgets/controls",
          "model_name": "DescriptionStyleModel",
          "model_module_version": "1.5.0",
          "state": {
            "_model_module": "@jupyter-widgets/controls",
            "_model_module_version": "1.5.0",
            "_model_name": "DescriptionStyleModel",
            "_view_count": null,
            "_view_module": "@jupyter-widgets/base",
            "_view_module_version": "1.2.0",
            "_view_name": "StyleView",
            "description_width": ""
          }
        }
      }
    }
  },
  "nbformat": 4,
  "nbformat_minor": 0
}